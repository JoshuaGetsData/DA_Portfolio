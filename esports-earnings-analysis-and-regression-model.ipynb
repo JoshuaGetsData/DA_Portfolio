{
 "cells": [
  {
   "cell_type": "markdown",
   "id": "7081b538",
   "metadata": {
    "execution": {
     "iopub.execute_input": "2022-07-17T22:39:19.444661Z",
     "iopub.status.busy": "2022-07-17T22:39:19.444104Z",
     "iopub.status.idle": "2022-07-17T22:39:19.481251Z",
     "shell.execute_reply": "2022-07-17T22:39:19.479178Z",
     "shell.execute_reply.started": "2022-07-17T22:39:19.444552Z"
    },
    "papermill": {
     "duration": 0.018335,
     "end_time": "2022-07-17T22:40:54.482203",
     "exception": false,
     "start_time": "2022-07-17T22:40:54.463868",
     "status": "completed"
    },
    "tags": []
   },
   "source": [
    "# Esports Earnings \n",
    "\n",
    "Esports is one of the fastest growing sources of entertainment and past time. I am curious to see which games and genres havebeen earning the most revenue. Also I want to see what esports teams have been earning the most per tournament and further break that down by the different players and the continent they're from."
   ]
  },
  {
   "cell_type": "code",
   "execution_count": 1,
   "id": "5fe43e66",
   "metadata": {
    "execution": {
     "iopub.execute_input": "2022-07-17T22:40:54.519095Z",
     "iopub.status.busy": "2022-07-17T22:40:54.518149Z",
     "iopub.status.idle": "2022-07-17T22:40:55.663429Z",
     "shell.execute_reply": "2022-07-17T22:40:55.662324Z"
    },
    "papermill": {
     "duration": 1.166852,
     "end_time": "2022-07-17T22:40:55.666399",
     "exception": false,
     "start_time": "2022-07-17T22:40:54.499547",
     "status": "completed"
    },
    "tags": []
   },
   "outputs": [],
   "source": [
    "# ImportData Analysis environment\n",
    "\n",
    "import numpy as np\n",
    "import pandas as pd \n",
    "import seaborn as sns\n",
    "import matplotlib.pyplot as plt "
   ]
  },
  {
   "cell_type": "code",
   "execution_count": 2,
   "id": "79d5d425",
   "metadata": {
    "execution": {
     "iopub.execute_input": "2022-07-17T22:40:55.703576Z",
     "iopub.status.busy": "2022-07-17T22:40:55.702863Z",
     "iopub.status.idle": "2022-07-17T22:40:55.722880Z",
     "shell.execute_reply": "2022-07-17T22:40:55.722054Z"
    },
    "papermill": {
     "duration": 0.042212,
     "end_time": "2022-07-17T22:40:55.725229",
     "exception": false,
     "start_time": "2022-07-17T22:40:55.683017",
     "status": "completed"
    },
    "tags": []
   },
   "outputs": [],
   "source": [
    "# Read in main data sets \n",
    "tdf = pd.read_csv(r'../input/esports-earnings-for-players-teams-by-game/highest_earning_teams.csv') #teams data frame\n"
   ]
  },
  {
   "cell_type": "markdown",
   "id": "0cb34377",
   "metadata": {
    "papermill": {
     "duration": 0.016317,
     "end_time": "2022-07-17T22:40:55.758281",
     "exception": false,
     "start_time": "2022-07-17T22:40:55.741964",
     "status": "completed"
    },
    "tags": []
   },
   "source": [
    "## Explore DataFrame"
   ]
  },
  {
   "cell_type": "code",
   "execution_count": 3,
   "id": "06d3316e",
   "metadata": {
    "execution": {
     "iopub.execute_input": "2022-07-17T22:40:55.793471Z",
     "iopub.status.busy": "2022-07-17T22:40:55.792697Z",
     "iopub.status.idle": "2022-07-17T22:40:55.814881Z",
     "shell.execute_reply": "2022-07-17T22:40:55.813727Z"
    },
    "papermill": {
     "duration": 0.04255,
     "end_time": "2022-07-17T22:40:55.817293",
     "exception": false,
     "start_time": "2022-07-17T22:40:55.774743",
     "status": "completed"
    },
    "tags": []
   },
   "outputs": [
    {
     "data": {
      "text/html": [
       "<div>\n",
       "<style scoped>\n",
       "    .dataframe tbody tr th:only-of-type {\n",
       "        vertical-align: middle;\n",
       "    }\n",
       "\n",
       "    .dataframe tbody tr th {\n",
       "        vertical-align: top;\n",
       "    }\n",
       "\n",
       "    .dataframe thead th {\n",
       "        text-align: right;\n",
       "    }\n",
       "</style>\n",
       "<table border=\"1\" class=\"dataframe\">\n",
       "  <thead>\n",
       "    <tr style=\"text-align: right;\">\n",
       "      <th></th>\n",
       "      <th>TeamId</th>\n",
       "      <th>TeamName</th>\n",
       "      <th>TotalUSDPrize</th>\n",
       "      <th>TotalTournaments</th>\n",
       "      <th>Game</th>\n",
       "      <th>Genre</th>\n",
       "    </tr>\n",
       "  </thead>\n",
       "  <tbody>\n",
       "    <tr>\n",
       "      <th>0</th>\n",
       "      <td>760</td>\n",
       "      <td>San Francisco Shock</td>\n",
       "      <td>3105000.00</td>\n",
       "      <td>7</td>\n",
       "      <td>Overwatch</td>\n",
       "      <td>First-Person Shooter</td>\n",
       "    </tr>\n",
       "    <tr>\n",
       "      <th>1</th>\n",
       "      <td>776</td>\n",
       "      <td>London Spitfire</td>\n",
       "      <td>1591136.50</td>\n",
       "      <td>13</td>\n",
       "      <td>Overwatch</td>\n",
       "      <td>First-Person Shooter</td>\n",
       "    </tr>\n",
       "    <tr>\n",
       "      <th>2</th>\n",
       "      <td>768</td>\n",
       "      <td>New York Excelsior</td>\n",
       "      <td>1572618.50</td>\n",
       "      <td>18</td>\n",
       "      <td>Overwatch</td>\n",
       "      <td>First-Person Shooter</td>\n",
       "    </tr>\n",
       "    <tr>\n",
       "      <th>3</th>\n",
       "      <td>773</td>\n",
       "      <td>Philadelphia Fusion</td>\n",
       "      <td>1186278.50</td>\n",
       "      <td>15</td>\n",
       "      <td>Overwatch</td>\n",
       "      <td>First-Person Shooter</td>\n",
       "    </tr>\n",
       "    <tr>\n",
       "      <th>4</th>\n",
       "      <td>766</td>\n",
       "      <td>Seoul Dynasty</td>\n",
       "      <td>1130000.00</td>\n",
       "      <td>6</td>\n",
       "      <td>Overwatch</td>\n",
       "      <td>First-Person Shooter</td>\n",
       "    </tr>\n",
       "    <tr>\n",
       "      <th>5</th>\n",
       "      <td>856</td>\n",
       "      <td>Vancouver Titans</td>\n",
       "      <td>950000.00</td>\n",
       "      <td>4</td>\n",
       "      <td>Overwatch</td>\n",
       "      <td>First-Person Shooter</td>\n",
       "    </tr>\n",
       "    <tr>\n",
       "      <th>6</th>\n",
       "      <td>769</td>\n",
       "      <td>Shanghai Dragons</td>\n",
       "      <td>755000.00</td>\n",
       "      <td>5</td>\n",
       "      <td>Overwatch</td>\n",
       "      <td>First-Person Shooter</td>\n",
       "    </tr>\n",
       "    <tr>\n",
       "      <th>7</th>\n",
       "      <td>774</td>\n",
       "      <td>Los Angeles Gladiators</td>\n",
       "      <td>709605.19</td>\n",
       "      <td>13</td>\n",
       "      <td>Overwatch</td>\n",
       "      <td>First-Person Shooter</td>\n",
       "    </tr>\n",
       "    <tr>\n",
       "      <th>8</th>\n",
       "      <td>861</td>\n",
       "      <td>Atlanta Reign</td>\n",
       "      <td>596098.00</td>\n",
       "      <td>9</td>\n",
       "      <td>Overwatch</td>\n",
       "      <td>First-Person Shooter</td>\n",
       "    </tr>\n",
       "    <tr>\n",
       "      <th>9</th>\n",
       "      <td>770</td>\n",
       "      <td>Los Angeles Valiant</td>\n",
       "      <td>535000.00</td>\n",
       "      <td>6</td>\n",
       "      <td>Overwatch</td>\n",
       "      <td>First-Person Shooter</td>\n",
       "    </tr>\n",
       "  </tbody>\n",
       "</table>\n",
       "</div>"
      ],
      "text/plain": [
       "   TeamId                TeamName  TotalUSDPrize  TotalTournaments       Game  \\\n",
       "0     760     San Francisco Shock     3105000.00                 7  Overwatch   \n",
       "1     776         London Spitfire     1591136.50                13  Overwatch   \n",
       "2     768      New York Excelsior     1572618.50                18  Overwatch   \n",
       "3     773     Philadelphia Fusion     1186278.50                15  Overwatch   \n",
       "4     766           Seoul Dynasty     1130000.00                 6  Overwatch   \n",
       "5     856        Vancouver Titans      950000.00                 4  Overwatch   \n",
       "6     769        Shanghai Dragons      755000.00                 5  Overwatch   \n",
       "7     774  Los Angeles Gladiators      709605.19                13  Overwatch   \n",
       "8     861           Atlanta Reign      596098.00                 9  Overwatch   \n",
       "9     770     Los Angeles Valiant      535000.00                 6  Overwatch   \n",
       "\n",
       "                  Genre  \n",
       "0  First-Person Shooter  \n",
       "1  First-Person Shooter  \n",
       "2  First-Person Shooter  \n",
       "3  First-Person Shooter  \n",
       "4  First-Person Shooter  \n",
       "5  First-Person Shooter  \n",
       "6  First-Person Shooter  \n",
       "7  First-Person Shooter  \n",
       "8  First-Person Shooter  \n",
       "9  First-Person Shooter  "
      ]
     },
     "execution_count": 3,
     "metadata": {},
     "output_type": "execute_result"
    }
   ],
   "source": [
    "#overbiew of data frame\n",
    "tdf.head(10)"
   ]
  },
  {
   "cell_type": "code",
   "execution_count": 4,
   "id": "d5080b62",
   "metadata": {
    "execution": {
     "iopub.execute_input": "2022-07-17T22:40:55.853585Z",
     "iopub.status.busy": "2022-07-17T22:40:55.852436Z",
     "iopub.status.idle": "2022-07-17T22:40:55.860188Z",
     "shell.execute_reply": "2022-07-17T22:40:55.859344Z"
    },
    "papermill": {
     "duration": 0.027926,
     "end_time": "2022-07-17T22:40:55.862265",
     "exception": false,
     "start_time": "2022-07-17T22:40:55.834339",
     "status": "completed"
    },
    "tags": []
   },
   "outputs": [
    {
     "data": {
      "text/plain": [
       "TeamId                int64\n",
       "TeamName             object\n",
       "TotalUSDPrize       float64\n",
       "TotalTournaments      int64\n",
       "Game                 object\n",
       "Genre                object\n",
       "dtype: object"
      ]
     },
     "execution_count": 4,
     "metadata": {},
     "output_type": "execute_result"
    }
   ],
   "source": [
    "# check data types for any issues\n",
    "tdf.dtypes\n",
    "# Prize money should be an integer rather than float"
   ]
  },
  {
   "cell_type": "code",
   "execution_count": 5,
   "id": "4795ddda",
   "metadata": {
    "execution": {
     "iopub.execute_input": "2022-07-17T22:40:55.898492Z",
     "iopub.status.busy": "2022-07-17T22:40:55.897912Z",
     "iopub.status.idle": "2022-07-17T22:40:55.906669Z",
     "shell.execute_reply": "2022-07-17T22:40:55.905646Z"
    },
    "papermill": {
     "duration": 0.029625,
     "end_time": "2022-07-17T22:40:55.909204",
     "exception": false,
     "start_time": "2022-07-17T22:40:55.879579",
     "status": "completed"
    },
    "tags": []
   },
   "outputs": [],
   "source": [
    "tdf['TotalUSDPrize'] = tdf['TotalUSDPrize'].astype('int64')"
   ]
  },
  {
   "cell_type": "code",
   "execution_count": 6,
   "id": "d30774dd",
   "metadata": {
    "execution": {
     "iopub.execute_input": "2022-07-17T22:40:55.944883Z",
     "iopub.status.busy": "2022-07-17T22:40:55.944495Z",
     "iopub.status.idle": "2022-07-17T22:40:55.961497Z",
     "shell.execute_reply": "2022-07-17T22:40:55.960774Z"
    },
    "papermill": {
     "duration": 0.037262,
     "end_time": "2022-07-17T22:40:55.963491",
     "exception": false,
     "start_time": "2022-07-17T22:40:55.926229",
     "status": "completed"
    },
    "tags": []
   },
   "outputs": [
    {
     "data": {
      "text/plain": [
       "TeamId  TeamName  TotalUSDPrize  TotalTournaments  Game   Genre\n",
       "False   False     False          False             False  False    928\n",
       "dtype: int64"
      ]
     },
     "execution_count": 6,
     "metadata": {},
     "output_type": "execute_result"
    }
   ],
   "source": [
    "# check for and delete any rows with null values\n",
    "tdf.isnull().value_counts() #none"
   ]
  },
  {
   "cell_type": "code",
   "execution_count": 7,
   "id": "3d2cd1b5",
   "metadata": {
    "execution": {
     "iopub.execute_input": "2022-07-17T22:40:56.000594Z",
     "iopub.status.busy": "2022-07-17T22:40:55.999931Z",
     "iopub.status.idle": "2022-07-17T22:40:56.006256Z",
     "shell.execute_reply": "2022-07-17T22:40:56.005270Z"
    },
    "papermill": {
     "duration": 0.02759,
     "end_time": "2022-07-17T22:40:56.008235",
     "exception": false,
     "start_time": "2022-07-17T22:40:55.980645",
     "status": "completed"
    },
    "tags": []
   },
   "outputs": [
    {
     "data": {
      "text/plain": [
       "array(['Overwatch', 'Starcraft II', 'League of Legends', 'Fortnite',\n",
       "       'Counter-Strike: Global Offensive', 'Dota 2', 'PUBG',\n",
       "       'Heroes of the Storm', 'Hearthstone', 'Arena of Valor'],\n",
       "      dtype=object)"
      ]
     },
     "execution_count": 7,
     "metadata": {},
     "output_type": "execute_result"
    }
   ],
   "source": [
    "# view each unique game in the dataset\n",
    "tdf['Game'].unique()"
   ]
  },
  {
   "cell_type": "code",
   "execution_count": 8,
   "id": "545e867c",
   "metadata": {
    "execution": {
     "iopub.execute_input": "2022-07-17T22:40:56.045693Z",
     "iopub.status.busy": "2022-07-17T22:40:56.045014Z",
     "iopub.status.idle": "2022-07-17T22:40:56.052416Z",
     "shell.execute_reply": "2022-07-17T22:40:56.051412Z"
    },
    "papermill": {
     "duration": 0.028624,
     "end_time": "2022-07-17T22:40:56.054520",
     "exception": false,
     "start_time": "2022-07-17T22:40:56.025896",
     "status": "completed"
    },
    "tags": []
   },
   "outputs": [
    {
     "data": {
      "text/plain": [
       "<bound method Series.unique of 0        San Francisco Shock\n",
       "1            London Spitfire\n",
       "2         New York Excelsior\n",
       "3        Philadelphia Fusion\n",
       "4              Seoul Dynasty\n",
       "               ...          \n",
       "923           Rex Regum Qeon\n",
       "924                 Alliance\n",
       "925          Marines Esports\n",
       "926    British National Team\n",
       "927    Swedish National Team\n",
       "Name: TeamName, Length: 928, dtype: object>"
      ]
     },
     "execution_count": 8,
     "metadata": {},
     "output_type": "execute_result"
    }
   ],
   "source": [
    "# now to view unique teams\n",
    "tdf['TeamName'].unique"
   ]
  },
  {
   "cell_type": "markdown",
   "id": "dc5b3b84",
   "metadata": {
    "papermill": {
     "duration": 0.017303,
     "end_time": "2022-07-17T22:40:56.090152",
     "exception": false,
     "start_time": "2022-07-17T22:40:56.072849",
     "status": "completed"
    },
    "tags": []
   },
   "source": [
    "### Top Ten Teams (Total USD Prize$)\n"
   ]
  },
  {
   "cell_type": "code",
   "execution_count": 9,
   "id": "4ca06df4",
   "metadata": {
    "execution": {
     "iopub.execute_input": "2022-07-17T22:40:56.127473Z",
     "iopub.status.busy": "2022-07-17T22:40:56.126770Z",
     "iopub.status.idle": "2022-07-17T22:40:56.143960Z",
     "shell.execute_reply": "2022-07-17T22:40:56.143073Z"
    },
    "papermill": {
     "duration": 0.038509,
     "end_time": "2022-07-17T22:40:56.146251",
     "exception": false,
     "start_time": "2022-07-17T22:40:56.107742",
     "status": "completed"
    },
    "tags": []
   },
   "outputs": [
    {
     "data": {
      "text/html": [
       "<div>\n",
       "<style scoped>\n",
       "    .dataframe tbody tr th:only-of-type {\n",
       "        vertical-align: middle;\n",
       "    }\n",
       "\n",
       "    .dataframe tbody tr th {\n",
       "        vertical-align: top;\n",
       "    }\n",
       "\n",
       "    .dataframe thead th {\n",
       "        text-align: right;\n",
       "    }\n",
       "</style>\n",
       "<table border=\"1\" class=\"dataframe\">\n",
       "  <thead>\n",
       "    <tr style=\"text-align: right;\">\n",
       "      <th></th>\n",
       "      <th>TeamId</th>\n",
       "      <th>TeamName</th>\n",
       "      <th>TotalUSDPrize</th>\n",
       "      <th>TotalTournaments</th>\n",
       "      <th>Game</th>\n",
       "      <th>Genre</th>\n",
       "    </tr>\n",
       "  </thead>\n",
       "  <tbody>\n",
       "    <tr>\n",
       "      <th>500</th>\n",
       "      <td>419</td>\n",
       "      <td>OG</td>\n",
       "      <td>33810636</td>\n",
       "      <td>68</td>\n",
       "      <td>Dota 2</td>\n",
       "      <td>Multiplayer Online Battle Arena</td>\n",
       "    </tr>\n",
       "    <tr>\n",
       "      <th>501</th>\n",
       "      <td>102</td>\n",
       "      <td>Team Liquid</td>\n",
       "      <td>22967431</td>\n",
       "      <td>96</td>\n",
       "      <td>Dota 2</td>\n",
       "      <td>Multiplayer Online Battle Arena</td>\n",
       "    </tr>\n",
       "    <tr>\n",
       "      <th>502</th>\n",
       "      <td>101</td>\n",
       "      <td>Evil Geniuses</td>\n",
       "      <td>19988670</td>\n",
       "      <td>115</td>\n",
       "      <td>Dota 2</td>\n",
       "      <td>Multiplayer Online Battle Arena</td>\n",
       "    </tr>\n",
       "    <tr>\n",
       "      <th>503</th>\n",
       "      <td>210</td>\n",
       "      <td>Newbee</td>\n",
       "      <td>13523736</td>\n",
       "      <td>98</td>\n",
       "      <td>Dota 2</td>\n",
       "      <td>Multiplayer Online Battle Arena</td>\n",
       "    </tr>\n",
       "    <tr>\n",
       "      <th>504</th>\n",
       "      <td>211</td>\n",
       "      <td>Team Secret</td>\n",
       "      <td>11492345</td>\n",
       "      <td>79</td>\n",
       "      <td>Dota 2</td>\n",
       "      <td>Multiplayer Online Battle Arena</td>\n",
       "    </tr>\n",
       "    <tr>\n",
       "      <th>505</th>\n",
       "      <td>169</td>\n",
       "      <td>Vici Gaming</td>\n",
       "      <td>11182792</td>\n",
       "      <td>121</td>\n",
       "      <td>Dota 2</td>\n",
       "      <td>Multiplayer Online Battle Arena</td>\n",
       "    </tr>\n",
       "    <tr>\n",
       "      <th>506</th>\n",
       "      <td>227</td>\n",
       "      <td>LGD Gaming</td>\n",
       "      <td>10072755</td>\n",
       "      <td>79</td>\n",
       "      <td>Dota 2</td>\n",
       "      <td>Multiplayer Online Battle Arena</td>\n",
       "    </tr>\n",
       "    <tr>\n",
       "      <th>507</th>\n",
       "      <td>185</td>\n",
       "      <td>Virtus.pro</td>\n",
       "      <td>10037385</td>\n",
       "      <td>125</td>\n",
       "      <td>Dota 2</td>\n",
       "      <td>Multiplayer Online Battle Arena</td>\n",
       "    </tr>\n",
       "    <tr>\n",
       "      <th>508</th>\n",
       "      <td>507</td>\n",
       "      <td>Wings Gaming</td>\n",
       "      <td>9739247</td>\n",
       "      <td>24</td>\n",
       "      <td>Dota 2</td>\n",
       "      <td>Multiplayer Online Battle Arena</td>\n",
       "    </tr>\n",
       "    <tr>\n",
       "      <th>509</th>\n",
       "      <td>623</td>\n",
       "      <td>Paris Saint-Germain Esports</td>\n",
       "      <td>9066946</td>\n",
       "      <td>27</td>\n",
       "      <td>Dota 2</td>\n",
       "      <td>Multiplayer Online Battle Arena</td>\n",
       "    </tr>\n",
       "  </tbody>\n",
       "</table>\n",
       "</div>"
      ],
      "text/plain": [
       "     TeamId                     TeamName  TotalUSDPrize  TotalTournaments  \\\n",
       "500     419                           OG       33810636                68   \n",
       "501     102                  Team Liquid       22967431                96   \n",
       "502     101                Evil Geniuses       19988670               115   \n",
       "503     210                       Newbee       13523736                98   \n",
       "504     211                  Team Secret       11492345                79   \n",
       "505     169                  Vici Gaming       11182792               121   \n",
       "506     227                   LGD Gaming       10072755                79   \n",
       "507     185                   Virtus.pro       10037385               125   \n",
       "508     507                 Wings Gaming        9739247                24   \n",
       "509     623  Paris Saint-Germain Esports        9066946                27   \n",
       "\n",
       "       Game                            Genre  \n",
       "500  Dota 2  Multiplayer Online Battle Arena  \n",
       "501  Dota 2  Multiplayer Online Battle Arena  \n",
       "502  Dota 2  Multiplayer Online Battle Arena  \n",
       "503  Dota 2  Multiplayer Online Battle Arena  \n",
       "504  Dota 2  Multiplayer Online Battle Arena  \n",
       "505  Dota 2  Multiplayer Online Battle Arena  \n",
       "506  Dota 2  Multiplayer Online Battle Arena  \n",
       "507  Dota 2  Multiplayer Online Battle Arena  \n",
       "508  Dota 2  Multiplayer Online Battle Arena  \n",
       "509  Dota 2  Multiplayer Online Battle Arena  "
      ]
     },
     "execution_count": 9,
     "metadata": {},
     "output_type": "execute_result"
    }
   ],
   "source": [
    "tdf.nlargest(10, 'TotalUSDPrize')"
   ]
  },
  {
   "cell_type": "markdown",
   "id": "c4325628",
   "metadata": {
    "papermill": {
     "duration": 0.017696,
     "end_time": "2022-07-17T22:40:56.182270",
     "exception": false,
     "start_time": "2022-07-17T22:40:56.164574",
     "status": "completed"
    },
    "tags": []
   },
   "source": [
    "This table also tells us that the top ten earning teams all play the game 'DOTA 2' in the 'Multiplayer Online Battle Arena' Genre"
   ]
  },
  {
   "cell_type": "code",
   "execution_count": 10,
   "id": "1e02ab5b",
   "metadata": {
    "execution": {
     "iopub.execute_input": "2022-07-17T22:40:56.219590Z",
     "iopub.status.busy": "2022-07-17T22:40:56.219172Z",
     "iopub.status.idle": "2022-07-17T22:40:56.235563Z",
     "shell.execute_reply": "2022-07-17T22:40:56.234440Z"
    },
    "papermill": {
     "duration": 0.037911,
     "end_time": "2022-07-17T22:40:56.237977",
     "exception": false,
     "start_time": "2022-07-17T22:40:56.200066",
     "status": "completed"
    },
    "tags": []
   },
   "outputs": [
    {
     "data": {
      "text/html": [
       "<div>\n",
       "<style scoped>\n",
       "    .dataframe tbody tr th:only-of-type {\n",
       "        vertical-align: middle;\n",
       "    }\n",
       "\n",
       "    .dataframe tbody tr th {\n",
       "        vertical-align: top;\n",
       "    }\n",
       "\n",
       "    .dataframe thead th {\n",
       "        text-align: right;\n",
       "    }\n",
       "</style>\n",
       "<table border=\"1\" class=\"dataframe\">\n",
       "  <thead>\n",
       "    <tr style=\"text-align: right;\">\n",
       "      <th></th>\n",
       "      <th>Game</th>\n",
       "      <th>TotalUSDPrize</th>\n",
       "    </tr>\n",
       "  </thead>\n",
       "  <tbody>\n",
       "    <tr>\n",
       "      <th>0</th>\n",
       "      <td>Dota 2</td>\n",
       "      <td>220282731</td>\n",
       "    </tr>\n",
       "    <tr>\n",
       "      <th>1</th>\n",
       "      <td>Counter-Strike: Global Offensive</td>\n",
       "      <td>84853899</td>\n",
       "    </tr>\n",
       "    <tr>\n",
       "      <th>2</th>\n",
       "      <td>League of Legends</td>\n",
       "      <td>64665517</td>\n",
       "    </tr>\n",
       "    <tr>\n",
       "      <th>3</th>\n",
       "      <td>Fortnite</td>\n",
       "      <td>34661313</td>\n",
       "    </tr>\n",
       "    <tr>\n",
       "      <th>4</th>\n",
       "      <td>Starcraft II</td>\n",
       "      <td>27856100</td>\n",
       "    </tr>\n",
       "    <tr>\n",
       "      <th>5</th>\n",
       "      <td>Overwatch</td>\n",
       "      <td>20465245</td>\n",
       "    </tr>\n",
       "    <tr>\n",
       "      <th>6</th>\n",
       "      <td>PUBG</td>\n",
       "      <td>16714974</td>\n",
       "    </tr>\n",
       "    <tr>\n",
       "      <th>7</th>\n",
       "      <td>Hearthstone</td>\n",
       "      <td>10864511</td>\n",
       "    </tr>\n",
       "    <tr>\n",
       "      <th>8</th>\n",
       "      <td>Heroes of the Storm</td>\n",
       "      <td>10710498</td>\n",
       "    </tr>\n",
       "    <tr>\n",
       "      <th>9</th>\n",
       "      <td>Arena of Valor</td>\n",
       "      <td>9969134</td>\n",
       "    </tr>\n",
       "  </tbody>\n",
       "</table>\n",
       "</div>"
      ],
      "text/plain": [
       "                               Game  TotalUSDPrize\n",
       "0                            Dota 2      220282731\n",
       "1  Counter-Strike: Global Offensive       84853899\n",
       "2                 League of Legends       64665517\n",
       "3                          Fortnite       34661313\n",
       "4                      Starcraft II       27856100\n",
       "5                         Overwatch       20465245\n",
       "6                              PUBG       16714974\n",
       "7                       Hearthstone       10864511\n",
       "8               Heroes of the Storm       10710498\n",
       "9                    Arena of Valor        9969134"
      ]
     },
     "execution_count": 10,
     "metadata": {},
     "output_type": "execute_result"
    }
   ],
   "source": [
    "# view total prize earnings by game in bar plot\n",
    "Games_earnings = tdf.groupby(['Game'])['TotalUSDPrize'].sum().sort_values(ascending=False).reset_index()\n",
    "Games_earnings"
   ]
  },
  {
   "cell_type": "code",
   "execution_count": 11,
   "id": "2b2d4a71",
   "metadata": {
    "execution": {
     "iopub.execute_input": "2022-07-17T22:40:56.276575Z",
     "iopub.status.busy": "2022-07-17T22:40:56.275548Z",
     "iopub.status.idle": "2022-07-17T22:40:56.552214Z",
     "shell.execute_reply": "2022-07-17T22:40:56.551115Z"
    },
    "papermill": {
     "duration": 0.298657,
     "end_time": "2022-07-17T22:40:56.554667",
     "exception": false,
     "start_time": "2022-07-17T22:40:56.256010",
     "status": "completed"
    },
    "tags": []
   },
   "outputs": [
    {
     "data": {
      "text/plain": [
       "Text(0.5, 0, 'Games')"
      ]
     },
     "execution_count": 11,
     "metadata": {},
     "output_type": "execute_result"
    },
    {
     "data": {
      "image/png": "[encoded data removed]",
      "text/plain": [
       "<Figure size 1440x720 with 1 Axes>"
      ]
     },
     "metadata": {
      "needs_background": "light"
     },
     "output_type": "display_data"
    }
   ],
   "source": [
    "#view in bar chart\n",
    "plt.figure(figsize=(20,10))\n",
    "sns.barplot(x=Games_earnings['Game'], y=Games_earnings['TotalUSDPrize'])\n",
    "plt.title('Highest Earning Games', size=25)\n",
    "plt.ylabel('Total Prize Money (USD)(Ten Millions)', size = 17)\n",
    "plt.xticks(rotation=15)\n",
    "plt.xlabel('Games', size=17)\n"
   ]
  },
  {
   "cell_type": "code",
   "execution_count": 12,
   "id": "773bc777",
   "metadata": {
    "execution": {
     "iopub.execute_input": "2022-07-17T22:40:56.595194Z",
     "iopub.status.busy": "2022-07-17T22:40:56.594241Z",
     "iopub.status.idle": "2022-07-17T22:40:56.845733Z",
     "shell.execute_reply": "2022-07-17T22:40:56.844911Z"
    },
    "papermill": {
     "duration": 0.273898,
     "end_time": "2022-07-17T22:40:56.847902",
     "exception": false,
     "start_time": "2022-07-17T22:40:56.574004",
     "status": "completed"
    },
    "tags": []
   },
   "outputs": [
    {
     "data": {
      "image/png": "[encoded data removed]",
      "text/plain": [
       "<Figure size 864x720 with 1 Axes>"
      ]
     },
     "metadata": {},
     "output_type": "display_data"
    }
   ],
   "source": [
    "#view pie chart\n",
    "plt.figure(figsize=(12,10))\n",
    "plt.pie(Games_earnings['TotalUSDPrize'], labels=Games_earnings['Game'], autopct='%.2f')\n",
    "plt.title('Pie Chart: Highest Prize Earnings by Game', size = 25)\n",
    "plt.axis('equal')\n",
    "plt.show()"
   ]
  },
  {
   "cell_type": "markdown",
   "id": "65153ae1",
   "metadata": {
    "papermill": {
     "duration": 0.020093,
     "end_time": "2022-07-17T22:40:56.888451",
     "exception": false,
     "start_time": "2022-07-17T22:40:56.868358",
     "status": "completed"
    },
    "tags": []
   },
   "source": [
    "### Tournament Amounts"
   ]
  },
  {
   "cell_type": "code",
   "execution_count": 13,
   "id": "c9c1619a",
   "metadata": {
    "execution": {
     "iopub.execute_input": "2022-07-17T22:40:56.930514Z",
     "iopub.status.busy": "2022-07-17T22:40:56.929777Z",
     "iopub.status.idle": "2022-07-17T22:40:56.944233Z",
     "shell.execute_reply": "2022-07-17T22:40:56.943181Z"
    },
    "papermill": {
     "duration": 0.038209,
     "end_time": "2022-07-17T22:40:56.946694",
     "exception": false,
     "start_time": "2022-07-17T22:40:56.908485",
     "status": "completed"
    },
    "tags": []
   },
   "outputs": [
    {
     "data": {
      "text/html": [
       "<div>\n",
       "<style scoped>\n",
       "    .dataframe tbody tr th:only-of-type {\n",
       "        vertical-align: middle;\n",
       "    }\n",
       "\n",
       "    .dataframe tbody tr th {\n",
       "        vertical-align: top;\n",
       "    }\n",
       "\n",
       "    .dataframe thead th {\n",
       "        text-align: right;\n",
       "    }\n",
       "</style>\n",
       "<table border=\"1\" class=\"dataframe\">\n",
       "  <thead>\n",
       "    <tr style=\"text-align: right;\">\n",
       "      <th></th>\n",
       "      <th>Game</th>\n",
       "      <th>TotalTournaments</th>\n",
       "    </tr>\n",
       "  </thead>\n",
       "  <tbody>\n",
       "    <tr>\n",
       "      <th>0</th>\n",
       "      <td>Starcraft II</td>\n",
       "      <td>12676</td>\n",
       "    </tr>\n",
       "    <tr>\n",
       "      <th>1</th>\n",
       "      <td>Counter-Strike: Global Offensive</td>\n",
       "      <td>5996</td>\n",
       "    </tr>\n",
       "    <tr>\n",
       "      <th>2</th>\n",
       "      <td>Dota 2</td>\n",
       "      <td>2931</td>\n",
       "    </tr>\n",
       "    <tr>\n",
       "      <th>3</th>\n",
       "      <td>League of Legends</td>\n",
       "      <td>2515</td>\n",
       "    </tr>\n",
       "    <tr>\n",
       "      <th>4</th>\n",
       "      <td>Heroes of the Storm</td>\n",
       "      <td>1663</td>\n",
       "    </tr>\n",
       "    <tr>\n",
       "      <th>5</th>\n",
       "      <td>Fortnite</td>\n",
       "      <td>1229</td>\n",
       "    </tr>\n",
       "    <tr>\n",
       "      <th>6</th>\n",
       "      <td>PUBG</td>\n",
       "      <td>828</td>\n",
       "    </tr>\n",
       "    <tr>\n",
       "      <th>7</th>\n",
       "      <td>Overwatch</td>\n",
       "      <td>772</td>\n",
       "    </tr>\n",
       "    <tr>\n",
       "      <th>8</th>\n",
       "      <td>Hearthstone</td>\n",
       "      <td>662</td>\n",
       "    </tr>\n",
       "    <tr>\n",
       "      <th>9</th>\n",
       "      <td>Arena of Valor</td>\n",
       "      <td>142</td>\n",
       "    </tr>\n",
       "  </tbody>\n",
       "</table>\n",
       "</div>"
      ],
      "text/plain": [
       "                               Game  TotalTournaments\n",
       "0                      Starcraft II             12676\n",
       "1  Counter-Strike: Global Offensive              5996\n",
       "2                            Dota 2              2931\n",
       "3                 League of Legends              2515\n",
       "4               Heroes of the Storm              1663\n",
       "5                          Fortnite              1229\n",
       "6                              PUBG               828\n",
       "7                         Overwatch               772\n",
       "8                       Hearthstone               662\n",
       "9                    Arena of Valor               142"
      ]
     },
     "execution_count": 13,
     "metadata": {},
     "output_type": "execute_result"
    }
   ],
   "source": [
    "Tourneys = tdf.groupby(['Game'])['TotalTournaments'].sum().sort_values(ascending=False).reset_index()\n",
    "Tourneys"
   ]
  },
  {
   "cell_type": "markdown",
   "id": "48227b69",
   "metadata": {
    "papermill": {
     "duration": 0.020175,
     "end_time": "2022-07-17T22:40:56.988155",
     "exception": false,
     "start_time": "2022-07-17T22:40:56.967980",
     "status": "completed"
    },
    "tags": []
   },
   "source": [
    "## Find Prize amount per Tournament for each game"
   ]
  },
  {
   "cell_type": "code",
   "execution_count": 14,
   "id": "5de6dec5",
   "metadata": {
    "execution": {
     "iopub.execute_input": "2022-07-17T22:40:57.030845Z",
     "iopub.status.busy": "2022-07-17T22:40:57.030425Z",
     "iopub.status.idle": "2022-07-17T22:40:57.046186Z",
     "shell.execute_reply": "2022-07-17T22:40:57.045213Z"
    },
    "papermill": {
     "duration": 0.040138,
     "end_time": "2022-07-17T22:40:57.048533",
     "exception": false,
     "start_time": "2022-07-17T22:40:57.008395",
     "status": "completed"
    },
    "tags": []
   },
   "outputs": [
    {
     "data": {
      "text/html": [
       "<div>\n",
       "<style scoped>\n",
       "    .dataframe tbody tr th:only-of-type {\n",
       "        vertical-align: middle;\n",
       "    }\n",
       "\n",
       "    .dataframe tbody tr th {\n",
       "        vertical-align: top;\n",
       "    }\n",
       "\n",
       "    .dataframe thead th {\n",
       "        text-align: right;\n",
       "    }\n",
       "</style>\n",
       "<table border=\"1\" class=\"dataframe\">\n",
       "  <thead>\n",
       "    <tr style=\"text-align: right;\">\n",
       "      <th></th>\n",
       "      <th>TotalTournaments</th>\n",
       "      <th>TotalUSDPrize</th>\n",
       "    </tr>\n",
       "    <tr>\n",
       "      <th>Game</th>\n",
       "      <th></th>\n",
       "      <th></th>\n",
       "    </tr>\n",
       "  </thead>\n",
       "  <tbody>\n",
       "    <tr>\n",
       "      <th>Arena of Valor</th>\n",
       "      <td>142</td>\n",
       "      <td>9969134</td>\n",
       "    </tr>\n",
       "    <tr>\n",
       "      <th>Counter-Strike: Global Offensive</th>\n",
       "      <td>5996</td>\n",
       "      <td>84853899</td>\n",
       "    </tr>\n",
       "    <tr>\n",
       "      <th>Dota 2</th>\n",
       "      <td>2931</td>\n",
       "      <td>220282731</td>\n",
       "    </tr>\n",
       "    <tr>\n",
       "      <th>Fortnite</th>\n",
       "      <td>1229</td>\n",
       "      <td>34661313</td>\n",
       "    </tr>\n",
       "    <tr>\n",
       "      <th>Hearthstone</th>\n",
       "      <td>662</td>\n",
       "      <td>10864511</td>\n",
       "    </tr>\n",
       "    <tr>\n",
       "      <th>Heroes of the Storm</th>\n",
       "      <td>1663</td>\n",
       "      <td>10710498</td>\n",
       "    </tr>\n",
       "    <tr>\n",
       "      <th>League of Legends</th>\n",
       "      <td>2515</td>\n",
       "      <td>64665517</td>\n",
       "    </tr>\n",
       "    <tr>\n",
       "      <th>Overwatch</th>\n",
       "      <td>772</td>\n",
       "      <td>20465245</td>\n",
       "    </tr>\n",
       "    <tr>\n",
       "      <th>PUBG</th>\n",
       "      <td>828</td>\n",
       "      <td>16714974</td>\n",
       "    </tr>\n",
       "    <tr>\n",
       "      <th>Starcraft II</th>\n",
       "      <td>12676</td>\n",
       "      <td>27856100</td>\n",
       "    </tr>\n",
       "  </tbody>\n",
       "</table>\n",
       "</div>"
      ],
      "text/plain": [
       "                                  TotalTournaments  TotalUSDPrize\n",
       "Game                                                             \n",
       "Arena of Valor                                 142        9969134\n",
       "Counter-Strike: Global Offensive              5996       84853899\n",
       "Dota 2                                        2931      220282731\n",
       "Fortnite                                      1229       34661313\n",
       "Hearthstone                                    662       10864511\n",
       "Heroes of the Storm                           1663       10710498\n",
       "League of Legends                             2515       64665517\n",
       "Overwatch                                      772       20465245\n",
       "PUBG                                           828       16714974\n",
       "Starcraft II                                 12676       27856100"
      ]
     },
     "execution_count": 14,
     "metadata": {},
     "output_type": "execute_result"
    }
   ],
   "source": [
    "PPT = tdf[['Game', 'TotalTournaments', 'TotalUSDPrize']].groupby('Game').sum()\n",
    "PPT"
   ]
  },
  {
   "cell_type": "code",
   "execution_count": 15,
   "id": "97f38fa4",
   "metadata": {
    "execution": {
     "iopub.execute_input": "2022-07-17T22:40:57.091521Z",
     "iopub.status.busy": "2022-07-17T22:40:57.091113Z",
     "iopub.status.idle": "2022-07-17T22:40:57.102711Z",
     "shell.execute_reply": "2022-07-17T22:40:57.101966Z"
    },
    "papermill": {
     "duration": 0.035496,
     "end_time": "2022-07-17T22:40:57.104606",
     "exception": false,
     "start_time": "2022-07-17T22:40:57.069110",
     "status": "completed"
    },
    "tags": []
   },
   "outputs": [
    {
     "data": {
      "text/html": [
       "<div>\n",
       "<style scoped>\n",
       "    .dataframe tbody tr th:only-of-type {\n",
       "        vertical-align: middle;\n",
       "    }\n",
       "\n",
       "    .dataframe tbody tr th {\n",
       "        vertical-align: top;\n",
       "    }\n",
       "\n",
       "    .dataframe thead th {\n",
       "        text-align: right;\n",
       "    }\n",
       "</style>\n",
       "<table border=\"1\" class=\"dataframe\">\n",
       "  <thead>\n",
       "    <tr style=\"text-align: right;\">\n",
       "      <th></th>\n",
       "      <th>TotalTournaments</th>\n",
       "      <th>TotalUSDPrize</th>\n",
       "      <th>Prize_per_tourney</th>\n",
       "    </tr>\n",
       "    <tr>\n",
       "      <th>Game</th>\n",
       "      <th></th>\n",
       "      <th></th>\n",
       "      <th></th>\n",
       "    </tr>\n",
       "  </thead>\n",
       "  <tbody>\n",
       "    <tr>\n",
       "      <th>Arena of Valor</th>\n",
       "      <td>142</td>\n",
       "      <td>9969134</td>\n",
       "      <td>70205.169014</td>\n",
       "    </tr>\n",
       "    <tr>\n",
       "      <th>Counter-Strike: Global Offensive</th>\n",
       "      <td>5996</td>\n",
       "      <td>84853899</td>\n",
       "      <td>14151.751001</td>\n",
       "    </tr>\n",
       "    <tr>\n",
       "      <th>Dota 2</th>\n",
       "      <td>2931</td>\n",
       "      <td>220282731</td>\n",
       "      <td>75156.168884</td>\n",
       "    </tr>\n",
       "    <tr>\n",
       "      <th>Fortnite</th>\n",
       "      <td>1229</td>\n",
       "      <td>34661313</td>\n",
       "      <td>28202.858421</td>\n",
       "    </tr>\n",
       "    <tr>\n",
       "      <th>Hearthstone</th>\n",
       "      <td>662</td>\n",
       "      <td>10864511</td>\n",
       "      <td>16411.648036</td>\n",
       "    </tr>\n",
       "    <tr>\n",
       "      <th>Heroes of the Storm</th>\n",
       "      <td>1663</td>\n",
       "      <td>10710498</td>\n",
       "      <td>6440.467829</td>\n",
       "    </tr>\n",
       "    <tr>\n",
       "      <th>League of Legends</th>\n",
       "      <td>2515</td>\n",
       "      <td>64665517</td>\n",
       "      <td>25711.935189</td>\n",
       "    </tr>\n",
       "    <tr>\n",
       "      <th>Overwatch</th>\n",
       "      <td>772</td>\n",
       "      <td>20465245</td>\n",
       "      <td>26509.384715</td>\n",
       "    </tr>\n",
       "    <tr>\n",
       "      <th>PUBG</th>\n",
       "      <td>828</td>\n",
       "      <td>16714974</td>\n",
       "      <td>20187.166667</td>\n",
       "    </tr>\n",
       "    <tr>\n",
       "      <th>Starcraft II</th>\n",
       "      <td>12676</td>\n",
       "      <td>27856100</td>\n",
       "      <td>2197.546545</td>\n",
       "    </tr>\n",
       "  </tbody>\n",
       "</table>\n",
       "</div>"
      ],
      "text/plain": [
       "                                  TotalTournaments  TotalUSDPrize  \\\n",
       "Game                                                                \n",
       "Arena of Valor                                 142        9969134   \n",
       "Counter-Strike: Global Offensive              5996       84853899   \n",
       "Dota 2                                        2931      220282731   \n",
       "Fortnite                                      1229       34661313   \n",
       "Hearthstone                                    662       10864511   \n",
       "Heroes of the Storm                           1663       10710498   \n",
       "League of Legends                             2515       64665517   \n",
       "Overwatch                                      772       20465245   \n",
       "PUBG                                           828       16714974   \n",
       "Starcraft II                                 12676       27856100   \n",
       "\n",
       "                                  Prize_per_tourney  \n",
       "Game                                                 \n",
       "Arena of Valor                         70205.169014  \n",
       "Counter-Strike: Global Offensive       14151.751001  \n",
       "Dota 2                                 75156.168884  \n",
       "Fortnite                               28202.858421  \n",
       "Hearthstone                            16411.648036  \n",
       "Heroes of the Storm                     6440.467829  \n",
       "League of Legends                      25711.935189  \n",
       "Overwatch                              26509.384715  \n",
       "PUBG                                   20187.166667  \n",
       "Starcraft II                            2197.546545  "
      ]
     },
     "execution_count": 15,
     "metadata": {},
     "output_type": "execute_result"
    }
   ],
   "source": [
    "PPT['Prize_per_tourney'] = PPT['TotalUSDPrize']/PPT['TotalTournaments']\n",
    "PPT"
   ]
  },
  {
   "cell_type": "code",
   "execution_count": 16,
   "id": "3bb8fe47",
   "metadata": {
    "execution": {
     "iopub.execute_input": "2022-07-17T22:40:57.147761Z",
     "iopub.status.busy": "2022-07-17T22:40:57.147055Z",
     "iopub.status.idle": "2022-07-17T22:40:57.162722Z",
     "shell.execute_reply": "2022-07-17T22:40:57.161647Z"
    },
    "papermill": {
     "duration": 0.040112,
     "end_time": "2022-07-17T22:40:57.165219",
     "exception": false,
     "start_time": "2022-07-17T22:40:57.125107",
     "status": "completed"
    },
    "tags": []
   },
   "outputs": [
    {
     "data": {
      "text/html": [
       "<div>\n",
       "<style scoped>\n",
       "    .dataframe tbody tr th:only-of-type {\n",
       "        vertical-align: middle;\n",
       "    }\n",
       "\n",
       "    .dataframe tbody tr th {\n",
       "        vertical-align: top;\n",
       "    }\n",
       "\n",
       "    .dataframe thead th {\n",
       "        text-align: right;\n",
       "    }\n",
       "</style>\n",
       "<table border=\"1\" class=\"dataframe\">\n",
       "  <thead>\n",
       "    <tr style=\"text-align: right;\">\n",
       "      <th></th>\n",
       "      <th>Game</th>\n",
       "      <th>Prize_per_tourney</th>\n",
       "    </tr>\n",
       "  </thead>\n",
       "  <tbody>\n",
       "    <tr>\n",
       "      <th>0</th>\n",
       "      <td>Dota 2</td>\n",
       "      <td>75156.168884</td>\n",
       "    </tr>\n",
       "    <tr>\n",
       "      <th>1</th>\n",
       "      <td>Arena of Valor</td>\n",
       "      <td>70205.169014</td>\n",
       "    </tr>\n",
       "    <tr>\n",
       "      <th>2</th>\n",
       "      <td>Fortnite</td>\n",
       "      <td>28202.858421</td>\n",
       "    </tr>\n",
       "    <tr>\n",
       "      <th>3</th>\n",
       "      <td>Overwatch</td>\n",
       "      <td>26509.384715</td>\n",
       "    </tr>\n",
       "    <tr>\n",
       "      <th>4</th>\n",
       "      <td>League of Legends</td>\n",
       "      <td>25711.935189</td>\n",
       "    </tr>\n",
       "    <tr>\n",
       "      <th>5</th>\n",
       "      <td>PUBG</td>\n",
       "      <td>20187.166667</td>\n",
       "    </tr>\n",
       "    <tr>\n",
       "      <th>6</th>\n",
       "      <td>Hearthstone</td>\n",
       "      <td>16411.648036</td>\n",
       "    </tr>\n",
       "    <tr>\n",
       "      <th>7</th>\n",
       "      <td>Counter-Strike: Global Offensive</td>\n",
       "      <td>14151.751001</td>\n",
       "    </tr>\n",
       "    <tr>\n",
       "      <th>8</th>\n",
       "      <td>Heroes of the Storm</td>\n",
       "      <td>6440.467829</td>\n",
       "    </tr>\n",
       "    <tr>\n",
       "      <th>9</th>\n",
       "      <td>Starcraft II</td>\n",
       "      <td>2197.546545</td>\n",
       "    </tr>\n",
       "  </tbody>\n",
       "</table>\n",
       "</div>"
      ],
      "text/plain": [
       "                               Game  Prize_per_tourney\n",
       "0                            Dota 2       75156.168884\n",
       "1                    Arena of Valor       70205.169014\n",
       "2                          Fortnite       28202.858421\n",
       "3                         Overwatch       26509.384715\n",
       "4                 League of Legends       25711.935189\n",
       "5                              PUBG       20187.166667\n",
       "6                       Hearthstone       16411.648036\n",
       "7  Counter-Strike: Global Offensive       14151.751001\n",
       "8               Heroes of the Storm        6440.467829\n",
       "9                      Starcraft II        2197.546545"
      ]
     },
     "execution_count": 16,
     "metadata": {},
     "output_type": "execute_result"
    }
   ],
   "source": [
    "Prop_prize = PPT.groupby(['Game'])['Prize_per_tourney'].mean().sort_values(ascending=False).reset_index()\n",
    "Prop_prize"
   ]
  },
  {
   "cell_type": "code",
   "execution_count": 17,
   "id": "75318243",
   "metadata": {
    "execution": {
     "iopub.execute_input": "2022-07-17T22:40:57.209663Z",
     "iopub.status.busy": "2022-07-17T22:40:57.208570Z",
     "iopub.status.idle": "2022-07-17T22:40:57.537546Z",
     "shell.execute_reply": "2022-07-17T22:40:57.536521Z"
    },
    "papermill": {
     "duration": 0.354052,
     "end_time": "2022-07-17T22:40:57.540643",
     "exception": false,
     "start_time": "2022-07-17T22:40:57.186591",
     "status": "completed"
    },
    "tags": []
   },
   "outputs": [
    {
     "data": {
      "text/plain": [
       "Text(0.5, 0, 'Games')"
      ]
     },
     "execution_count": 17,
     "metadata": {},
     "output_type": "execute_result"
    },
    {
     "data": {
      "image/png": "[encoded data removed]",
      "text/plain": [
       "<Figure size 1440x720 with 1 Axes>"
      ]
     },
     "metadata": {
      "needs_background": "light"
     },
     "output_type": "display_data"
    }
   ],
   "source": [
    "#view in bar chart\n",
    "plt.figure(figsize=(20,10))\n",
    "sns.set_theme(style=\"whitegrid\")\n",
    "sns.barplot(x=Prop_prize['Game'], y=Prop_prize['Prize_per_tourney'], saturation=1.5)\n",
    "plt.title('Prize $ (USD) Per Tourney by Game', size=25)\n",
    "plt.ylabel('Total Prize Money (USD)', size = 17)\n",
    "plt.xticks(rotation=15)\n",
    "plt.xlabel('Games', size=17)"
   ]
  },
  {
   "cell_type": "markdown",
   "id": "25b94fb3",
   "metadata": {
    "papermill": {
     "duration": 0.02126,
     "end_time": "2022-07-17T22:40:57.584319",
     "exception": false,
     "start_time": "2022-07-17T22:40:57.563059",
     "status": "completed"
    },
    "tags": []
   },
   "source": [
    "### Prize Earnings by Team"
   ]
  },
  {
   "cell_type": "code",
   "execution_count": 18,
   "id": "c854a88a",
   "metadata": {
    "execution": {
     "iopub.execute_input": "2022-07-17T22:40:57.629144Z",
     "iopub.status.busy": "2022-07-17T22:40:57.628447Z",
     "iopub.status.idle": "2022-07-17T22:40:57.632793Z",
     "shell.execute_reply": "2022-07-17T22:40:57.631809Z"
    },
    "papermill": {
     "duration": 0.029197,
     "end_time": "2022-07-17T22:40:57.634976",
     "exception": false,
     "start_time": "2022-07-17T22:40:57.605779",
     "status": "completed"
    },
    "tags": []
   },
   "outputs": [],
   "source": [
    "# view top 20 earning teams\n",
    "# Top ten earning per tourney\n",
    "#top ten earning by game"
   ]
  },
  {
   "cell_type": "code",
   "execution_count": 19,
   "id": "fe60867c",
   "metadata": {
    "execution": {
     "iopub.execute_input": "2022-07-17T22:40:57.680022Z",
     "iopub.status.busy": "2022-07-17T22:40:57.679608Z",
     "iopub.status.idle": "2022-07-17T22:40:57.695550Z",
     "shell.execute_reply": "2022-07-17T22:40:57.694394Z"
    },
    "papermill": {
     "duration": 0.041257,
     "end_time": "2022-07-17T22:40:57.697943",
     "exception": false,
     "start_time": "2022-07-17T22:40:57.656686",
     "status": "completed"
    },
    "tags": []
   },
   "outputs": [
    {
     "data": {
      "text/html": [
       "<div>\n",
       "<style scoped>\n",
       "    .dataframe tbody tr th:only-of-type {\n",
       "        vertical-align: middle;\n",
       "    }\n",
       "\n",
       "    .dataframe tbody tr th {\n",
       "        vertical-align: top;\n",
       "    }\n",
       "\n",
       "    .dataframe thead th {\n",
       "        text-align: right;\n",
       "    }\n",
       "</style>\n",
       "<table border=\"1\" class=\"dataframe\">\n",
       "  <thead>\n",
       "    <tr style=\"text-align: right;\">\n",
       "      <th></th>\n",
       "      <th>TeamName</th>\n",
       "      <th>TotalUSDPrize</th>\n",
       "    </tr>\n",
       "  </thead>\n",
       "  <tbody>\n",
       "    <tr>\n",
       "      <th>0</th>\n",
       "      <td>OG</td>\n",
       "      <td>34297886</td>\n",
       "    </tr>\n",
       "    <tr>\n",
       "      <th>1</th>\n",
       "      <td>Team Liquid</td>\n",
       "      <td>33095689</td>\n",
       "    </tr>\n",
       "    <tr>\n",
       "      <th>2</th>\n",
       "      <td>Evil Geniuses</td>\n",
       "      <td>21662170</td>\n",
       "    </tr>\n",
       "    <tr>\n",
       "      <th>3</th>\n",
       "      <td>Virtus.pro</td>\n",
       "      <td>14393877</td>\n",
       "    </tr>\n",
       "    <tr>\n",
       "      <th>4</th>\n",
       "      <td>Newbee</td>\n",
       "      <td>14072156</td>\n",
       "    </tr>\n",
       "    <tr>\n",
       "      <th>5</th>\n",
       "      <td>Fnatic</td>\n",
       "      <td>13000707</td>\n",
       "    </tr>\n",
       "    <tr>\n",
       "      <th>6</th>\n",
       "      <td>Vici Gaming</td>\n",
       "      <td>12660732</td>\n",
       "    </tr>\n",
       "    <tr>\n",
       "      <th>7</th>\n",
       "      <td>Team Secret</td>\n",
       "      <td>11688870</td>\n",
       "    </tr>\n",
       "    <tr>\n",
       "      <th>8</th>\n",
       "      <td>Invictus Gaming</td>\n",
       "      <td>11515641</td>\n",
       "    </tr>\n",
       "    <tr>\n",
       "      <th>9</th>\n",
       "      <td>LGD Gaming</td>\n",
       "      <td>10852394</td>\n",
       "    </tr>\n",
       "    <tr>\n",
       "      <th>10</th>\n",
       "      <td>Wings Gaming</td>\n",
       "      <td>9739247</td>\n",
       "    </tr>\n",
       "    <tr>\n",
       "      <th>11</th>\n",
       "      <td>Natus Vincere</td>\n",
       "      <td>9607917</td>\n",
       "    </tr>\n",
       "    <tr>\n",
       "      <th>12</th>\n",
       "      <td>Paris Saint-Germain Esports</td>\n",
       "      <td>9066946</td>\n",
       "    </tr>\n",
       "    <tr>\n",
       "      <th>13</th>\n",
       "      <td>SK Telecom T1</td>\n",
       "      <td>8882384</td>\n",
       "    </tr>\n",
       "    <tr>\n",
       "      <th>14</th>\n",
       "      <td>Astralis</td>\n",
       "      <td>8503918</td>\n",
       "    </tr>\n",
       "    <tr>\n",
       "      <th>15</th>\n",
       "      <td>Cloud9</td>\n",
       "      <td>8302821</td>\n",
       "    </tr>\n",
       "    <tr>\n",
       "      <th>16</th>\n",
       "      <td>FaZe Clan</td>\n",
       "      <td>7235372</td>\n",
       "    </tr>\n",
       "    <tr>\n",
       "      <th>17</th>\n",
       "      <td>MVP</td>\n",
       "      <td>6208745</td>\n",
       "    </tr>\n",
       "    <tr>\n",
       "      <th>18</th>\n",
       "      <td>G2 Esports</td>\n",
       "      <td>5538072</td>\n",
       "    </tr>\n",
       "    <tr>\n",
       "      <th>19</th>\n",
       "      <td>Alliance</td>\n",
       "      <td>5328531</td>\n",
       "    </tr>\n",
       "  </tbody>\n",
       "</table>\n",
       "</div>"
      ],
      "text/plain": [
       "                       TeamName  TotalUSDPrize\n",
       "0                            OG       34297886\n",
       "1                   Team Liquid       33095689\n",
       "2                 Evil Geniuses       21662170\n",
       "3                    Virtus.pro       14393877\n",
       "4                        Newbee       14072156\n",
       "5                        Fnatic       13000707\n",
       "6                   Vici Gaming       12660732\n",
       "7                   Team Secret       11688870\n",
       "8               Invictus Gaming       11515641\n",
       "9                    LGD Gaming       10852394\n",
       "10                 Wings Gaming        9739247\n",
       "11                Natus Vincere        9607917\n",
       "12  Paris Saint-Germain Esports        9066946\n",
       "13                SK Telecom T1        8882384\n",
       "14                     Astralis        8503918\n",
       "15                       Cloud9        8302821\n",
       "16                    FaZe Clan        7235372\n",
       "17                          MVP        6208745\n",
       "18                   G2 Esports        5538072\n",
       "19                     Alliance        5328531"
      ]
     },
     "execution_count": 19,
     "metadata": {},
     "output_type": "execute_result"
    }
   ],
   "source": [
    "# Top 20 earning Teams\n",
    "Team_earnings = tdf.groupby(['TeamName'])['TotalUSDPrize'].sum().sort_values(ascending=False)[:20].reset_index()\n",
    "Team_earnings.head(20)"
   ]
  },
  {
   "cell_type": "code",
   "execution_count": 20,
   "id": "32ce552d",
   "metadata": {
    "execution": {
     "iopub.execute_input": "2022-07-17T22:40:57.744125Z",
     "iopub.status.busy": "2022-07-17T22:40:57.743449Z",
     "iopub.status.idle": "2022-07-17T22:40:58.169218Z",
     "shell.execute_reply": "2022-07-17T22:40:58.168128Z"
    },
    "papermill": {
     "duration": 0.452059,
     "end_time": "2022-07-17T22:40:58.171835",
     "exception": false,
     "start_time": "2022-07-17T22:40:57.719776",
     "status": "completed"
    },
    "tags": []
   },
   "outputs": [
    {
     "data": {
      "text/plain": [
       "Text(0.5, 0, 'Team Name')"
      ]
     },
     "execution_count": 20,
     "metadata": {},
     "output_type": "execute_result"
    },
    {
     "data": {
      "image/png": "[encoded data removed]",
      "text/plain": [
       "<Figure size 1440x720 with 1 Axes>"
      ]
     },
     "metadata": {},
     "output_type": "display_data"
    }
   ],
   "source": [
    "plt.figure(figsize=(20,10))\n",
    "sns.set_theme(style=\"whitegrid\")\n",
    "sns.barplot(x=Team_earnings['TeamName'], y=Team_earnings['TotalUSDPrize'], saturation=1)\n",
    "plt.title('Prize $ (USD) by Team', size=25)\n",
    "plt.ylabel('Total Prize Money (USD)(Ten Millions)', size = 17)\n",
    "plt.xticks(rotation=25)\n",
    "plt.xlabel('Team Name', size=17)"
   ]
  },
  {
   "cell_type": "code",
   "execution_count": 21,
   "id": "d7dffc61",
   "metadata": {
    "execution": {
     "iopub.execute_input": "2022-07-17T22:40:58.220905Z",
     "iopub.status.busy": "2022-07-17T22:40:58.219894Z",
     "iopub.status.idle": "2022-07-17T22:40:58.235996Z",
     "shell.execute_reply": "2022-07-17T22:40:58.234897Z"
    },
    "papermill": {
     "duration": 0.042426,
     "end_time": "2022-07-17T22:40:58.238162",
     "exception": false,
     "start_time": "2022-07-17T22:40:58.195736",
     "status": "completed"
    },
    "tags": []
   },
   "outputs": [
    {
     "data": {
      "text/html": [
       "<div>\n",
       "<style scoped>\n",
       "    .dataframe tbody tr th:only-of-type {\n",
       "        vertical-align: middle;\n",
       "    }\n",
       "\n",
       "    .dataframe tbody tr th {\n",
       "        vertical-align: top;\n",
       "    }\n",
       "\n",
       "    .dataframe thead th {\n",
       "        text-align: right;\n",
       "    }\n",
       "</style>\n",
       "<table border=\"1\" class=\"dataframe\">\n",
       "  <thead>\n",
       "    <tr style=\"text-align: right;\">\n",
       "      <th></th>\n",
       "      <th>TotalTournaments</th>\n",
       "      <th>TotalUSDPrize</th>\n",
       "    </tr>\n",
       "    <tr>\n",
       "      <th>TeamName</th>\n",
       "      <th></th>\n",
       "      <th></th>\n",
       "    </tr>\n",
       "  </thead>\n",
       "  <tbody>\n",
       "    <tr>\n",
       "      <th>(monkey) Business</th>\n",
       "      <td>2</td>\n",
       "      <td>37194</td>\n",
       "    </tr>\n",
       "    <tr>\n",
       "      <th>100 Thieves</th>\n",
       "      <td>55</td>\n",
       "      <td>2625388</td>\n",
       "    </tr>\n",
       "    <tr>\n",
       "      <th>303 Esports</th>\n",
       "      <td>5</td>\n",
       "      <td>34508</td>\n",
       "    </tr>\n",
       "    <tr>\n",
       "      <th>3DMAX</th>\n",
       "      <td>44</td>\n",
       "      <td>97062</td>\n",
       "    </tr>\n",
       "    <tr>\n",
       "      <th>4 Clovers &amp; Lepricon</th>\n",
       "      <td>8</td>\n",
       "      <td>105298</td>\n",
       "    </tr>\n",
       "    <tr>\n",
       "      <th>...</th>\n",
       "      <td>...</td>\n",
       "      <td>...</td>\n",
       "    </tr>\n",
       "    <tr>\n",
       "      <th>mudgolems</th>\n",
       "      <td>4</td>\n",
       "      <td>59000</td>\n",
       "    </tr>\n",
       "    <tr>\n",
       "      <th>paiN Gaming</th>\n",
       "      <td>65</td>\n",
       "      <td>976349</td>\n",
       "    </tr>\n",
       "    <tr>\n",
       "      <th>vsBANDITS</th>\n",
       "      <td>1</td>\n",
       "      <td>2000</td>\n",
       "    </tr>\n",
       "    <tr>\n",
       "      <th>wisdom Nerve victory</th>\n",
       "      <td>2</td>\n",
       "      <td>57542</td>\n",
       "    </tr>\n",
       "    <tr>\n",
       "      <th>x6tence</th>\n",
       "      <td>50</td>\n",
       "      <td>155987</td>\n",
       "    </tr>\n",
       "  </tbody>\n",
       "</table>\n",
       "<p>505 rows × 2 columns</p>\n",
       "</div>"
      ],
      "text/plain": [
       "                      TotalTournaments  TotalUSDPrize\n",
       "TeamName                                             \n",
       "(monkey) Business                    2          37194\n",
       "100 Thieves                         55        2625388\n",
       "303 Esports                          5          34508\n",
       "3DMAX                               44          97062\n",
       "4 Clovers & Lepricon                 8         105298\n",
       "...                                ...            ...\n",
       "mudgolems                            4          59000\n",
       "paiN Gaming                         65         976349\n",
       "vsBANDITS                            1           2000\n",
       "wisdom Nerve victory                 2          57542\n",
       "x6tence                             50         155987\n",
       "\n",
       "[505 rows x 2 columns]"
      ]
     },
     "execution_count": 21,
     "metadata": {},
     "output_type": "execute_result"
    }
   ],
   "source": [
    "# Find team earnings per tourney\n",
    "PPTN = tdf[['TeamName', 'TotalTournaments', 'TotalUSDPrize']].groupby('TeamName').sum()\n",
    "PPTN"
   ]
  },
  {
   "cell_type": "code",
   "execution_count": 22,
   "id": "80f20da8",
   "metadata": {
    "execution": {
     "iopub.execute_input": "2022-07-17T22:40:58.287062Z",
     "iopub.status.busy": "2022-07-17T22:40:58.286115Z",
     "iopub.status.idle": "2022-07-17T22:40:58.300507Z",
     "shell.execute_reply": "2022-07-17T22:40:58.299632Z"
    },
    "papermill": {
     "duration": 0.041089,
     "end_time": "2022-07-17T22:40:58.302525",
     "exception": false,
     "start_time": "2022-07-17T22:40:58.261436",
     "status": "completed"
    },
    "tags": []
   },
   "outputs": [
    {
     "data": {
      "text/html": [
       "<div>\n",
       "<style scoped>\n",
       "    .dataframe tbody tr th:only-of-type {\n",
       "        vertical-align: middle;\n",
       "    }\n",
       "\n",
       "    .dataframe tbody tr th {\n",
       "        vertical-align: top;\n",
       "    }\n",
       "\n",
       "    .dataframe thead th {\n",
       "        text-align: right;\n",
       "    }\n",
       "</style>\n",
       "<table border=\"1\" class=\"dataframe\">\n",
       "  <thead>\n",
       "    <tr style=\"text-align: right;\">\n",
       "      <th></th>\n",
       "      <th>TotalTournaments</th>\n",
       "      <th>TotalUSDPrize</th>\n",
       "      <th>Prize_per_tourney</th>\n",
       "    </tr>\n",
       "    <tr>\n",
       "      <th>TeamName</th>\n",
       "      <th></th>\n",
       "      <th></th>\n",
       "      <th></th>\n",
       "    </tr>\n",
       "  </thead>\n",
       "  <tbody>\n",
       "    <tr>\n",
       "      <th>(monkey) Business</th>\n",
       "      <td>2</td>\n",
       "      <td>37194</td>\n",
       "      <td>18597.000000</td>\n",
       "    </tr>\n",
       "    <tr>\n",
       "      <th>100 Thieves</th>\n",
       "      <td>55</td>\n",
       "      <td>2625388</td>\n",
       "      <td>47734.327273</td>\n",
       "    </tr>\n",
       "    <tr>\n",
       "      <th>303 Esports</th>\n",
       "      <td>5</td>\n",
       "      <td>34508</td>\n",
       "      <td>6901.600000</td>\n",
       "    </tr>\n",
       "    <tr>\n",
       "      <th>3DMAX</th>\n",
       "      <td>44</td>\n",
       "      <td>97062</td>\n",
       "      <td>2205.954545</td>\n",
       "    </tr>\n",
       "    <tr>\n",
       "      <th>4 Clovers &amp; Lepricon</th>\n",
       "      <td>8</td>\n",
       "      <td>105298</td>\n",
       "      <td>13162.250000</td>\n",
       "    </tr>\n",
       "    <tr>\n",
       "      <th>...</th>\n",
       "      <td>...</td>\n",
       "      <td>...</td>\n",
       "      <td>...</td>\n",
       "    </tr>\n",
       "    <tr>\n",
       "      <th>mudgolems</th>\n",
       "      <td>4</td>\n",
       "      <td>59000</td>\n",
       "      <td>14750.000000</td>\n",
       "    </tr>\n",
       "    <tr>\n",
       "      <th>paiN Gaming</th>\n",
       "      <td>65</td>\n",
       "      <td>976349</td>\n",
       "      <td>15020.753846</td>\n",
       "    </tr>\n",
       "    <tr>\n",
       "      <th>vsBANDITS</th>\n",
       "      <td>1</td>\n",
       "      <td>2000</td>\n",
       "      <td>2000.000000</td>\n",
       "    </tr>\n",
       "    <tr>\n",
       "      <th>wisdom Nerve victory</th>\n",
       "      <td>2</td>\n",
       "      <td>57542</td>\n",
       "      <td>28771.000000</td>\n",
       "    </tr>\n",
       "    <tr>\n",
       "      <th>x6tence</th>\n",
       "      <td>50</td>\n",
       "      <td>155987</td>\n",
       "      <td>3119.740000</td>\n",
       "    </tr>\n",
       "  </tbody>\n",
       "</table>\n",
       "<p>505 rows × 3 columns</p>\n",
       "</div>"
      ],
      "text/plain": [
       "                      TotalTournaments  TotalUSDPrize  Prize_per_tourney\n",
       "TeamName                                                                \n",
       "(monkey) Business                    2          37194       18597.000000\n",
       "100 Thieves                         55        2625388       47734.327273\n",
       "303 Esports                          5          34508        6901.600000\n",
       "3DMAX                               44          97062        2205.954545\n",
       "4 Clovers & Lepricon                 8         105298       13162.250000\n",
       "...                                ...            ...                ...\n",
       "mudgolems                            4          59000       14750.000000\n",
       "paiN Gaming                         65         976349       15020.753846\n",
       "vsBANDITS                            1           2000        2000.000000\n",
       "wisdom Nerve victory                 2          57542       28771.000000\n",
       "x6tence                             50         155987        3119.740000\n",
       "\n",
       "[505 rows x 3 columns]"
      ]
     },
     "execution_count": 22,
     "metadata": {},
     "output_type": "execute_result"
    }
   ],
   "source": [
    "PPTN['Prize_per_tourney'] = PPTN['TotalUSDPrize']/PPTN['TotalTournaments']\n",
    "PPTN"
   ]
  },
  {
   "cell_type": "code",
   "execution_count": 23,
   "id": "c0226c8b",
   "metadata": {
    "execution": {
     "iopub.execute_input": "2022-07-17T22:40:58.353360Z",
     "iopub.status.busy": "2022-07-17T22:40:58.352405Z",
     "iopub.status.idle": "2022-07-17T22:40:58.367117Z",
     "shell.execute_reply": "2022-07-17T22:40:58.366292Z"
    },
    "papermill": {
     "duration": 0.04295,
     "end_time": "2022-07-17T22:40:58.369280",
     "exception": false,
     "start_time": "2022-07-17T22:40:58.326330",
     "status": "completed"
    },
    "tags": []
   },
   "outputs": [
    {
     "data": {
      "text/html": [
       "<div>\n",
       "<style scoped>\n",
       "    .dataframe tbody tr th:only-of-type {\n",
       "        vertical-align: middle;\n",
       "    }\n",
       "\n",
       "    .dataframe tbody tr th {\n",
       "        vertical-align: top;\n",
       "    }\n",
       "\n",
       "    .dataframe thead th {\n",
       "        text-align: right;\n",
       "    }\n",
       "</style>\n",
       "<table border=\"1\" class=\"dataframe\">\n",
       "  <thead>\n",
       "    <tr style=\"text-align: right;\">\n",
       "      <th></th>\n",
       "      <th>TeamName</th>\n",
       "      <th>Prize_per_tourney</th>\n",
       "    </tr>\n",
       "  </thead>\n",
       "  <tbody>\n",
       "    <tr>\n",
       "      <th>0</th>\n",
       "      <td>San Francisco Shock</td>\n",
       "      <td>443571.428571</td>\n",
       "    </tr>\n",
       "    <tr>\n",
       "      <th>1</th>\n",
       "      <td>OG</td>\n",
       "      <td>413227.542169</td>\n",
       "    </tr>\n",
       "    <tr>\n",
       "      <th>2</th>\n",
       "      <td>Wings Gaming</td>\n",
       "      <td>405801.958333</td>\n",
       "    </tr>\n",
       "    <tr>\n",
       "      <th>3</th>\n",
       "      <td>Paris Saint-Germain Esports</td>\n",
       "      <td>335812.814815</td>\n",
       "    </tr>\n",
       "    <tr>\n",
       "      <th>4</th>\n",
       "      <td>World Best Gaming</td>\n",
       "      <td>262500.000000</td>\n",
       "    </tr>\n",
       "    <tr>\n",
       "      <th>5</th>\n",
       "      <td>9z Team</td>\n",
       "      <td>250237.500000</td>\n",
       "    </tr>\n",
       "    <tr>\n",
       "      <th>6</th>\n",
       "      <td>Washington Justice</td>\n",
       "      <td>250000.000000</td>\n",
       "    </tr>\n",
       "    <tr>\n",
       "      <th>7</th>\n",
       "      <td>Vancouver Titans</td>\n",
       "      <td>237500.000000</td>\n",
       "    </tr>\n",
       "    <tr>\n",
       "      <th>8</th>\n",
       "      <td>Hero JiuJ</td>\n",
       "      <td>220872.200000</td>\n",
       "    </tr>\n",
       "    <tr>\n",
       "      <th>9</th>\n",
       "      <td>Seoul Dynasty</td>\n",
       "      <td>188333.333333</td>\n",
       "    </tr>\n",
       "    <tr>\n",
       "      <th>10</th>\n",
       "      <td>Shanghai Dragons</td>\n",
       "      <td>151000.000000</td>\n",
       "    </tr>\n",
       "    <tr>\n",
       "      <th>11</th>\n",
       "      <td>Valhalla Vikings</td>\n",
       "      <td>141860.000000</td>\n",
       "    </tr>\n",
       "    <tr>\n",
       "      <th>12</th>\n",
       "      <td>Hangzhou Spark</td>\n",
       "      <td>141666.666667</td>\n",
       "    </tr>\n",
       "    <tr>\n",
       "      <th>13</th>\n",
       "      <td>NASR eSports</td>\n",
       "      <td>126250.000000</td>\n",
       "    </tr>\n",
       "    <tr>\n",
       "      <th>14</th>\n",
       "      <td>London Spitfire</td>\n",
       "      <td>122395.076923</td>\n",
       "    </tr>\n",
       "    <tr>\n",
       "      <th>15</th>\n",
       "      <td>Cooler Esport</td>\n",
       "      <td>122217.185185</td>\n",
       "    </tr>\n",
       "    <tr>\n",
       "      <th>16</th>\n",
       "      <td>Top Esports</td>\n",
       "      <td>113821.666667</td>\n",
       "    </tr>\n",
       "    <tr>\n",
       "      <th>17</th>\n",
       "      <td>Team Secret</td>\n",
       "      <td>112392.980769</td>\n",
       "    </tr>\n",
       "    <tr>\n",
       "      <th>18</th>\n",
       "      <td>Big God</td>\n",
       "      <td>109275.000000</td>\n",
       "    </tr>\n",
       "    <tr>\n",
       "      <th>19</th>\n",
       "      <td>Russian National Team</td>\n",
       "      <td>95075.076923</td>\n",
       "    </tr>\n",
       "  </tbody>\n",
       "</table>\n",
       "</div>"
      ],
      "text/plain": [
       "                       TeamName  Prize_per_tourney\n",
       "0           San Francisco Shock      443571.428571\n",
       "1                            OG      413227.542169\n",
       "2                  Wings Gaming      405801.958333\n",
       "3   Paris Saint-Germain Esports      335812.814815\n",
       "4             World Best Gaming      262500.000000\n",
       "5                       9z Team      250237.500000\n",
       "6            Washington Justice      250000.000000\n",
       "7              Vancouver Titans      237500.000000\n",
       "8                     Hero JiuJ      220872.200000\n",
       "9                 Seoul Dynasty      188333.333333\n",
       "10             Shanghai Dragons      151000.000000\n",
       "11             Valhalla Vikings      141860.000000\n",
       "12               Hangzhou Spark      141666.666667\n",
       "13                 NASR eSports      126250.000000\n",
       "14              London Spitfire      122395.076923\n",
       "15                Cooler Esport      122217.185185\n",
       "16                  Top Esports      113821.666667\n",
       "17                  Team Secret      112392.980769\n",
       "18                      Big God      109275.000000\n",
       "19        Russian National Team       95075.076923"
      ]
     },
     "execution_count": 23,
     "metadata": {},
     "output_type": "execute_result"
    }
   ],
   "source": [
    "TProp_prize = PPTN.groupby(['TeamName'])['Prize_per_tourney'].mean().sort_values(ascending=False)[:20].reset_index()\n",
    "TProp_prize"
   ]
  },
  {
   "cell_type": "code",
   "execution_count": 24,
   "id": "654d3549",
   "metadata": {
    "execution": {
     "iopub.execute_input": "2022-07-17T22:40:58.419203Z",
     "iopub.status.busy": "2022-07-17T22:40:58.418525Z",
     "iopub.status.idle": "2022-07-17T22:40:58.831951Z",
     "shell.execute_reply": "2022-07-17T22:40:58.830692Z"
    },
    "papermill": {
     "duration": 0.441859,
     "end_time": "2022-07-17T22:40:58.835019",
     "exception": false,
     "start_time": "2022-07-17T22:40:58.393160",
     "status": "completed"
    },
    "tags": []
   },
   "outputs": [
    {
     "data": {
      "text/plain": [
       "Text(0.5, 0, 'Team Name')"
      ]
     },
     "execution_count": 24,
     "metadata": {},
     "output_type": "execute_result"
    },
    {
     "data": {
      "image/png": "[encoded data removed]",
      "text/plain": [
       "<Figure size 1440x720 with 1 Axes>"
      ]
     },
     "metadata": {},
     "output_type": "display_data"
    }
   ],
   "source": [
    "plt.figure(figsize=(20,10))\n",
    "sns.set_theme(style=\"whitegrid\")\n",
    "sns.barplot(x=TProp_prize['TeamName'], y=TProp_prize['Prize_per_tourney'], saturation=1)\n",
    "plt.title('Top 25 Team Prize $ (USD) per Tourney', size=25)\n",
    "plt.ylabel('Prize Money (USD)', size = 17)\n",
    "plt.xticks(rotation=25)\n",
    "plt.xlabel('Team Name', size=17)"
   ]
  },
  {
   "cell_type": "markdown",
   "id": "2f828420",
   "metadata": {
    "papermill": {
     "duration": 0.025067,
     "end_time": "2022-07-17T22:40:58.886155",
     "exception": false,
     "start_time": "2022-07-17T22:40:58.861088",
     "status": "completed"
    },
    "tags": []
   },
   "source": [
    "My friend is a big Overwatch fan so I wanmted to look at the top earning teams for strictly overwatch\n"
   ]
  },
  {
   "cell_type": "code",
   "execution_count": 25,
   "id": "8a82cef7",
   "metadata": {
    "execution": {
     "iopub.execute_input": "2022-07-17T22:40:58.938799Z",
     "iopub.status.busy": "2022-07-17T22:40:58.938425Z",
     "iopub.status.idle": "2022-07-17T22:40:58.952620Z",
     "shell.execute_reply": "2022-07-17T22:40:58.951869Z"
    },
    "papermill": {
     "duration": 0.043075,
     "end_time": "2022-07-17T22:40:58.954638",
     "exception": false,
     "start_time": "2022-07-17T22:40:58.911563",
     "status": "completed"
    },
    "tags": []
   },
   "outputs": [
    {
     "data": {
      "text/html": [
       "<div>\n",
       "<style scoped>\n",
       "    .dataframe tbody tr th:only-of-type {\n",
       "        vertical-align: middle;\n",
       "    }\n",
       "\n",
       "    .dataframe tbody tr th {\n",
       "        vertical-align: top;\n",
       "    }\n",
       "\n",
       "    .dataframe thead th {\n",
       "        text-align: right;\n",
       "    }\n",
       "</style>\n",
       "<table border=\"1\" class=\"dataframe\">\n",
       "  <thead>\n",
       "    <tr style=\"text-align: right;\">\n",
       "      <th></th>\n",
       "      <th>Game</th>\n",
       "      <th>TeamName</th>\n",
       "      <th>TotalTournaments</th>\n",
       "      <th>TotalUSDPrize</th>\n",
       "    </tr>\n",
       "  </thead>\n",
       "  <tbody>\n",
       "    <tr>\n",
       "      <th>0</th>\n",
       "      <td>Overwatch</td>\n",
       "      <td>San Francisco Shock</td>\n",
       "      <td>7</td>\n",
       "      <td>3105000</td>\n",
       "    </tr>\n",
       "    <tr>\n",
       "      <th>1</th>\n",
       "      <td>Overwatch</td>\n",
       "      <td>London Spitfire</td>\n",
       "      <td>13</td>\n",
       "      <td>1591136</td>\n",
       "    </tr>\n",
       "    <tr>\n",
       "      <th>2</th>\n",
       "      <td>Overwatch</td>\n",
       "      <td>New York Excelsior</td>\n",
       "      <td>18</td>\n",
       "      <td>1572618</td>\n",
       "    </tr>\n",
       "    <tr>\n",
       "      <th>3</th>\n",
       "      <td>Overwatch</td>\n",
       "      <td>Philadelphia Fusion</td>\n",
       "      <td>15</td>\n",
       "      <td>1186278</td>\n",
       "    </tr>\n",
       "    <tr>\n",
       "      <th>4</th>\n",
       "      <td>Overwatch</td>\n",
       "      <td>Seoul Dynasty</td>\n",
       "      <td>6</td>\n",
       "      <td>1130000</td>\n",
       "    </tr>\n",
       "    <tr>\n",
       "      <th>...</th>\n",
       "      <td>...</td>\n",
       "      <td>...</td>\n",
       "      <td>...</td>\n",
       "      <td>...</td>\n",
       "    </tr>\n",
       "    <tr>\n",
       "      <th>923</th>\n",
       "      <td>Arena of Valor</td>\n",
       "      <td>Rex Regum Qeon</td>\n",
       "      <td>2</td>\n",
       "      <td>6286</td>\n",
       "    </tr>\n",
       "    <tr>\n",
       "      <th>924</th>\n",
       "      <td>Arena of Valor</td>\n",
       "      <td>Alliance</td>\n",
       "      <td>1</td>\n",
       "      <td>4000</td>\n",
       "    </tr>\n",
       "    <tr>\n",
       "      <th>925</th>\n",
       "      <td>Arena of Valor</td>\n",
       "      <td>Marines Esports</td>\n",
       "      <td>1</td>\n",
       "      <td>3429</td>\n",
       "    </tr>\n",
       "    <tr>\n",
       "      <th>926</th>\n",
       "      <td>Arena of Valor</td>\n",
       "      <td>British National Team</td>\n",
       "      <td>1</td>\n",
       "      <td>2500</td>\n",
       "    </tr>\n",
       "    <tr>\n",
       "      <th>927</th>\n",
       "      <td>Arena of Valor</td>\n",
       "      <td>Swedish National Team</td>\n",
       "      <td>1</td>\n",
       "      <td>2500</td>\n",
       "    </tr>\n",
       "  </tbody>\n",
       "</table>\n",
       "<p>928 rows × 4 columns</p>\n",
       "</div>"
      ],
      "text/plain": [
       "               Game               TeamName  TotalTournaments  TotalUSDPrize\n",
       "0         Overwatch    San Francisco Shock                 7        3105000\n",
       "1         Overwatch        London Spitfire                13        1591136\n",
       "2         Overwatch     New York Excelsior                18        1572618\n",
       "3         Overwatch    Philadelphia Fusion                15        1186278\n",
       "4         Overwatch          Seoul Dynasty                 6        1130000\n",
       "..              ...                    ...               ...            ...\n",
       "923  Arena of Valor         Rex Regum Qeon                 2           6286\n",
       "924  Arena of Valor               Alliance                 1           4000\n",
       "925  Arena of Valor        Marines Esports                 1           3429\n",
       "926  Arena of Valor  British National Team                 1           2500\n",
       "927  Arena of Valor  Swedish National Team                 1           2500\n",
       "\n",
       "[928 rows x 4 columns]"
      ]
     },
     "execution_count": 25,
     "metadata": {},
     "output_type": "execute_result"
    }
   ],
   "source": [
    "OWL = tdf[['Game','TeamName', 'TotalTournaments', 'TotalUSDPrize']]\n",
    "OWL"
   ]
  },
  {
   "cell_type": "code",
   "execution_count": 26,
   "id": "b03aef59",
   "metadata": {
    "execution": {
     "iopub.execute_input": "2022-07-17T22:40:59.008062Z",
     "iopub.status.busy": "2022-07-17T22:40:59.007498Z",
     "iopub.status.idle": "2022-07-17T22:40:59.019970Z",
     "shell.execute_reply": "2022-07-17T22:40:59.018868Z"
    },
    "papermill": {
     "duration": 0.042127,
     "end_time": "2022-07-17T22:40:59.022261",
     "exception": false,
     "start_time": "2022-07-17T22:40:58.980134",
     "status": "completed"
    },
    "tags": []
   },
   "outputs": [
    {
     "data": {
      "text/html": [
       "<div>\n",
       "<style scoped>\n",
       "    .dataframe tbody tr th:only-of-type {\n",
       "        vertical-align: middle;\n",
       "    }\n",
       "\n",
       "    .dataframe tbody tr th {\n",
       "        vertical-align: top;\n",
       "    }\n",
       "\n",
       "    .dataframe thead th {\n",
       "        text-align: right;\n",
       "    }\n",
       "</style>\n",
       "<table border=\"1\" class=\"dataframe\">\n",
       "  <thead>\n",
       "    <tr style=\"text-align: right;\">\n",
       "      <th></th>\n",
       "      <th>Game</th>\n",
       "      <th>TeamName</th>\n",
       "      <th>TotalTournaments</th>\n",
       "      <th>TotalUSDPrize</th>\n",
       "    </tr>\n",
       "  </thead>\n",
       "  <tbody>\n",
       "    <tr>\n",
       "      <th>0</th>\n",
       "      <td>Overwatch</td>\n",
       "      <td>San Francisco Shock</td>\n",
       "      <td>7</td>\n",
       "      <td>3105000</td>\n",
       "    </tr>\n",
       "    <tr>\n",
       "      <th>1</th>\n",
       "      <td>Overwatch</td>\n",
       "      <td>London Spitfire</td>\n",
       "      <td>13</td>\n",
       "      <td>1591136</td>\n",
       "    </tr>\n",
       "    <tr>\n",
       "      <th>2</th>\n",
       "      <td>Overwatch</td>\n",
       "      <td>New York Excelsior</td>\n",
       "      <td>18</td>\n",
       "      <td>1572618</td>\n",
       "    </tr>\n",
       "    <tr>\n",
       "      <th>3</th>\n",
       "      <td>Overwatch</td>\n",
       "      <td>Philadelphia Fusion</td>\n",
       "      <td>15</td>\n",
       "      <td>1186278</td>\n",
       "    </tr>\n",
       "    <tr>\n",
       "      <th>4</th>\n",
       "      <td>Overwatch</td>\n",
       "      <td>Seoul Dynasty</td>\n",
       "      <td>6</td>\n",
       "      <td>1130000</td>\n",
       "    </tr>\n",
       "    <tr>\n",
       "      <th>5</th>\n",
       "      <td>Overwatch</td>\n",
       "      <td>Vancouver Titans</td>\n",
       "      <td>4</td>\n",
       "      <td>950000</td>\n",
       "    </tr>\n",
       "    <tr>\n",
       "      <th>6</th>\n",
       "      <td>Overwatch</td>\n",
       "      <td>Shanghai Dragons</td>\n",
       "      <td>5</td>\n",
       "      <td>755000</td>\n",
       "    </tr>\n",
       "    <tr>\n",
       "      <th>7</th>\n",
       "      <td>Overwatch</td>\n",
       "      <td>Los Angeles Gladiators</td>\n",
       "      <td>13</td>\n",
       "      <td>709605</td>\n",
       "    </tr>\n",
       "    <tr>\n",
       "      <th>8</th>\n",
       "      <td>Overwatch</td>\n",
       "      <td>Atlanta Reign</td>\n",
       "      <td>9</td>\n",
       "      <td>596098</td>\n",
       "    </tr>\n",
       "    <tr>\n",
       "      <th>9</th>\n",
       "      <td>Overwatch</td>\n",
       "      <td>Los Angeles Valiant</td>\n",
       "      <td>6</td>\n",
       "      <td>535000</td>\n",
       "    </tr>\n",
       "  </tbody>\n",
       "</table>\n",
       "</div>"
      ],
      "text/plain": [
       "        Game                TeamName  TotalTournaments  TotalUSDPrize\n",
       "0  Overwatch     San Francisco Shock                 7        3105000\n",
       "1  Overwatch         London Spitfire                13        1591136\n",
       "2  Overwatch      New York Excelsior                18        1572618\n",
       "3  Overwatch     Philadelphia Fusion                15        1186278\n",
       "4  Overwatch           Seoul Dynasty                 6        1130000\n",
       "5  Overwatch        Vancouver Titans                 4         950000\n",
       "6  Overwatch        Shanghai Dragons                 5         755000\n",
       "7  Overwatch  Los Angeles Gladiators                13         709605\n",
       "8  Overwatch           Atlanta Reign                 9         596098\n",
       "9  Overwatch     Los Angeles Valiant                 6         535000"
      ]
     },
     "execution_count": 26,
     "metadata": {},
     "output_type": "execute_result"
    }
   ],
   "source": [
    "OWW = OWL.groupby('Game')\n",
    "Pogg = OWW.get_group('Overwatch')[:10]\n",
    "Pogg"
   ]
  },
  {
   "cell_type": "code",
   "execution_count": 27,
   "id": "70a6960b",
   "metadata": {
    "execution": {
     "iopub.execute_input": "2022-07-17T22:40:59.075844Z",
     "iopub.status.busy": "2022-07-17T22:40:59.075465Z",
     "iopub.status.idle": "2022-07-17T22:40:59.397619Z",
     "shell.execute_reply": "2022-07-17T22:40:59.396664Z"
    },
    "papermill": {
     "duration": 0.351942,
     "end_time": "2022-07-17T22:40:59.400120",
     "exception": false,
     "start_time": "2022-07-17T22:40:59.048178",
     "status": "completed"
    },
    "tags": []
   },
   "outputs": [
    {
     "data": {
      "text/plain": [
       "Text(0.5, 0, 'Team Name')"
      ]
     },
     "execution_count": 27,
     "metadata": {},
     "output_type": "execute_result"
    },
    {
     "data": {
      "image/png": "[encoded data removed]",
      "text/plain": [
       "<Figure size 1440x720 with 1 Axes>"
      ]
     },
     "metadata": {},
     "output_type": "display_data"
    }
   ],
   "source": [
    "plt.figure(figsize=(20,10))\n",
    "sns.set_theme(style=\"whitegrid\")\n",
    "sns.barplot(x=Pogg['TeamName'], y=Pogg['TotalUSDPrize'], saturation=1)\n",
    "plt.title('Top 10 Overwatch Team Prize $ (Millions)', size=25)\n",
    "plt.ylabel('Prize Money (USD)', size = 17)\n",
    "plt.xticks(rotation=25)\n",
    "plt.xlabel('Team Name', size=17)"
   ]
  },
  {
   "cell_type": "code",
   "execution_count": 28,
   "id": "5aebf9bd",
   "metadata": {
    "execution": {
     "iopub.execute_input": "2022-07-17T22:40:59.456556Z",
     "iopub.status.busy": "2022-07-17T22:40:59.456201Z",
     "iopub.status.idle": "2022-07-17T22:40:59.479395Z",
     "shell.execute_reply": "2022-07-17T22:40:59.477879Z"
    },
    "papermill": {
     "duration": 0.054403,
     "end_time": "2022-07-17T22:40:59.482195",
     "exception": false,
     "start_time": "2022-07-17T22:40:59.427792",
     "status": "completed"
    },
    "tags": []
   },
   "outputs": [
    {
     "name": "stderr",
     "output_type": "stream",
     "text": [
      "/opt/conda/lib/python3.7/site-packages/ipykernel_launcher.py:1: SettingWithCopyWarning: \n",
      "A value is trying to be set on a copy of a slice from a DataFrame.\n",
      "Try using .loc[row_indexer,col_indexer] = value instead\n",
      "\n",
      "See the caveats in the documentation: https://pandas.pydata.org/pandas-docs/stable/user_guide/indexing.html#returning-a-view-versus-a-copy\n",
      "  \"\"\"Entry point for launching an IPython kernel.\n"
     ]
    },
    {
     "data": {
      "text/html": [
       "<div>\n",
       "<style scoped>\n",
       "    .dataframe tbody tr th:only-of-type {\n",
       "        vertical-align: middle;\n",
       "    }\n",
       "\n",
       "    .dataframe tbody tr th {\n",
       "        vertical-align: top;\n",
       "    }\n",
       "\n",
       "    .dataframe thead th {\n",
       "        text-align: right;\n",
       "    }\n",
       "</style>\n",
       "<table border=\"1\" class=\"dataframe\">\n",
       "  <thead>\n",
       "    <tr style=\"text-align: right;\">\n",
       "      <th></th>\n",
       "      <th>Game</th>\n",
       "      <th>TeamName</th>\n",
       "      <th>TotalTournaments</th>\n",
       "      <th>TotalUSDPrize</th>\n",
       "      <th>Prize_per_tourney</th>\n",
       "    </tr>\n",
       "  </thead>\n",
       "  <tbody>\n",
       "    <tr>\n",
       "      <th>0</th>\n",
       "      <td>Overwatch</td>\n",
       "      <td>San Francisco Shock</td>\n",
       "      <td>7</td>\n",
       "      <td>3105000</td>\n",
       "      <td>443571.428571</td>\n",
       "    </tr>\n",
       "    <tr>\n",
       "      <th>1</th>\n",
       "      <td>Overwatch</td>\n",
       "      <td>London Spitfire</td>\n",
       "      <td>13</td>\n",
       "      <td>1591136</td>\n",
       "      <td>122395.076923</td>\n",
       "    </tr>\n",
       "    <tr>\n",
       "      <th>2</th>\n",
       "      <td>Overwatch</td>\n",
       "      <td>New York Excelsior</td>\n",
       "      <td>18</td>\n",
       "      <td>1572618</td>\n",
       "      <td>87367.666667</td>\n",
       "    </tr>\n",
       "    <tr>\n",
       "      <th>3</th>\n",
       "      <td>Overwatch</td>\n",
       "      <td>Philadelphia Fusion</td>\n",
       "      <td>15</td>\n",
       "      <td>1186278</td>\n",
       "      <td>79085.200000</td>\n",
       "    </tr>\n",
       "    <tr>\n",
       "      <th>4</th>\n",
       "      <td>Overwatch</td>\n",
       "      <td>Seoul Dynasty</td>\n",
       "      <td>6</td>\n",
       "      <td>1130000</td>\n",
       "      <td>188333.333333</td>\n",
       "    </tr>\n",
       "    <tr>\n",
       "      <th>...</th>\n",
       "      <td>...</td>\n",
       "      <td>...</td>\n",
       "      <td>...</td>\n",
       "      <td>...</td>\n",
       "      <td>...</td>\n",
       "    </tr>\n",
       "    <tr>\n",
       "      <th>923</th>\n",
       "      <td>Arena of Valor</td>\n",
       "      <td>Rex Regum Qeon</td>\n",
       "      <td>2</td>\n",
       "      <td>6286</td>\n",
       "      <td>3143.000000</td>\n",
       "    </tr>\n",
       "    <tr>\n",
       "      <th>924</th>\n",
       "      <td>Arena of Valor</td>\n",
       "      <td>Alliance</td>\n",
       "      <td>1</td>\n",
       "      <td>4000</td>\n",
       "      <td>4000.000000</td>\n",
       "    </tr>\n",
       "    <tr>\n",
       "      <th>925</th>\n",
       "      <td>Arena of Valor</td>\n",
       "      <td>Marines Esports</td>\n",
       "      <td>1</td>\n",
       "      <td>3429</td>\n",
       "      <td>3429.000000</td>\n",
       "    </tr>\n",
       "    <tr>\n",
       "      <th>926</th>\n",
       "      <td>Arena of Valor</td>\n",
       "      <td>British National Team</td>\n",
       "      <td>1</td>\n",
       "      <td>2500</td>\n",
       "      <td>2500.000000</td>\n",
       "    </tr>\n",
       "    <tr>\n",
       "      <th>927</th>\n",
       "      <td>Arena of Valor</td>\n",
       "      <td>Swedish National Team</td>\n",
       "      <td>1</td>\n",
       "      <td>2500</td>\n",
       "      <td>2500.000000</td>\n",
       "    </tr>\n",
       "  </tbody>\n",
       "</table>\n",
       "<p>928 rows × 5 columns</p>\n",
       "</div>"
      ],
      "text/plain": [
       "               Game               TeamName  TotalTournaments  TotalUSDPrize  \\\n",
       "0         Overwatch    San Francisco Shock                 7        3105000   \n",
       "1         Overwatch        London Spitfire                13        1591136   \n",
       "2         Overwatch     New York Excelsior                18        1572618   \n",
       "3         Overwatch    Philadelphia Fusion                15        1186278   \n",
       "4         Overwatch          Seoul Dynasty                 6        1130000   \n",
       "..              ...                    ...               ...            ...   \n",
       "923  Arena of Valor         Rex Regum Qeon                 2           6286   \n",
       "924  Arena of Valor               Alliance                 1           4000   \n",
       "925  Arena of Valor        Marines Esports                 1           3429   \n",
       "926  Arena of Valor  British National Team                 1           2500   \n",
       "927  Arena of Valor  Swedish National Team                 1           2500   \n",
       "\n",
       "     Prize_per_tourney  \n",
       "0        443571.428571  \n",
       "1        122395.076923  \n",
       "2         87367.666667  \n",
       "3         79085.200000  \n",
       "4        188333.333333  \n",
       "..                 ...  \n",
       "923        3143.000000  \n",
       "924        4000.000000  \n",
       "925        3429.000000  \n",
       "926        2500.000000  \n",
       "927        2500.000000  \n",
       "\n",
       "[928 rows x 5 columns]"
      ]
     },
     "execution_count": 28,
     "metadata": {},
     "output_type": "execute_result"
    }
   ],
   "source": [
    "OWL['Prize_per_tourney'] = OWL['TotalUSDPrize']/OWL['TotalTournaments']\n",
    "OWL"
   ]
  },
  {
   "cell_type": "code",
   "execution_count": 29,
   "id": "47751e82",
   "metadata": {
    "execution": {
     "iopub.execute_input": "2022-07-17T22:40:59.546617Z",
     "iopub.status.busy": "2022-07-17T22:40:59.545804Z",
     "iopub.status.idle": "2022-07-17T22:40:59.562327Z",
     "shell.execute_reply": "2022-07-17T22:40:59.561154Z"
    },
    "papermill": {
     "duration": 0.054275,
     "end_time": "2022-07-17T22:40:59.564655",
     "exception": false,
     "start_time": "2022-07-17T22:40:59.510380",
     "status": "completed"
    },
    "tags": []
   },
   "outputs": [
    {
     "data": {
      "text/html": [
       "<div>\n",
       "<style scoped>\n",
       "    .dataframe tbody tr th:only-of-type {\n",
       "        vertical-align: middle;\n",
       "    }\n",
       "\n",
       "    .dataframe tbody tr th {\n",
       "        vertical-align: top;\n",
       "    }\n",
       "\n",
       "    .dataframe thead th {\n",
       "        text-align: right;\n",
       "    }\n",
       "</style>\n",
       "<table border=\"1\" class=\"dataframe\">\n",
       "  <thead>\n",
       "    <tr style=\"text-align: right;\">\n",
       "      <th></th>\n",
       "      <th>Game</th>\n",
       "      <th>TeamName</th>\n",
       "      <th>TotalTournaments</th>\n",
       "      <th>TotalUSDPrize</th>\n",
       "      <th>Prize_per_tourney</th>\n",
       "    </tr>\n",
       "  </thead>\n",
       "  <tbody>\n",
       "    <tr>\n",
       "      <th>0</th>\n",
       "      <td>Overwatch</td>\n",
       "      <td>San Francisco Shock</td>\n",
       "      <td>7</td>\n",
       "      <td>3105000</td>\n",
       "      <td>443571.428571</td>\n",
       "    </tr>\n",
       "    <tr>\n",
       "      <th>1</th>\n",
       "      <td>Overwatch</td>\n",
       "      <td>London Spitfire</td>\n",
       "      <td>13</td>\n",
       "      <td>1591136</td>\n",
       "      <td>122395.076923</td>\n",
       "    </tr>\n",
       "    <tr>\n",
       "      <th>2</th>\n",
       "      <td>Overwatch</td>\n",
       "      <td>New York Excelsior</td>\n",
       "      <td>18</td>\n",
       "      <td>1572618</td>\n",
       "      <td>87367.666667</td>\n",
       "    </tr>\n",
       "    <tr>\n",
       "      <th>3</th>\n",
       "      <td>Overwatch</td>\n",
       "      <td>Philadelphia Fusion</td>\n",
       "      <td>15</td>\n",
       "      <td>1186278</td>\n",
       "      <td>79085.200000</td>\n",
       "    </tr>\n",
       "    <tr>\n",
       "      <th>4</th>\n",
       "      <td>Overwatch</td>\n",
       "      <td>Seoul Dynasty</td>\n",
       "      <td>6</td>\n",
       "      <td>1130000</td>\n",
       "      <td>188333.333333</td>\n",
       "    </tr>\n",
       "    <tr>\n",
       "      <th>5</th>\n",
       "      <td>Overwatch</td>\n",
       "      <td>Vancouver Titans</td>\n",
       "      <td>4</td>\n",
       "      <td>950000</td>\n",
       "      <td>237500.000000</td>\n",
       "    </tr>\n",
       "    <tr>\n",
       "      <th>6</th>\n",
       "      <td>Overwatch</td>\n",
       "      <td>Shanghai Dragons</td>\n",
       "      <td>5</td>\n",
       "      <td>755000</td>\n",
       "      <td>151000.000000</td>\n",
       "    </tr>\n",
       "    <tr>\n",
       "      <th>7</th>\n",
       "      <td>Overwatch</td>\n",
       "      <td>Los Angeles Gladiators</td>\n",
       "      <td>13</td>\n",
       "      <td>709605</td>\n",
       "      <td>54585.000000</td>\n",
       "    </tr>\n",
       "    <tr>\n",
       "      <th>8</th>\n",
       "      <td>Overwatch</td>\n",
       "      <td>Atlanta Reign</td>\n",
       "      <td>9</td>\n",
       "      <td>596098</td>\n",
       "      <td>66233.111111</td>\n",
       "    </tr>\n",
       "    <tr>\n",
       "      <th>9</th>\n",
       "      <td>Overwatch</td>\n",
       "      <td>Los Angeles Valiant</td>\n",
       "      <td>6</td>\n",
       "      <td>535000</td>\n",
       "      <td>89166.666667</td>\n",
       "    </tr>\n",
       "  </tbody>\n",
       "</table>\n",
       "</div>"
      ],
      "text/plain": [
       "        Game                TeamName  TotalTournaments  TotalUSDPrize  \\\n",
       "0  Overwatch     San Francisco Shock                 7        3105000   \n",
       "1  Overwatch         London Spitfire                13        1591136   \n",
       "2  Overwatch      New York Excelsior                18        1572618   \n",
       "3  Overwatch     Philadelphia Fusion                15        1186278   \n",
       "4  Overwatch           Seoul Dynasty                 6        1130000   \n",
       "5  Overwatch        Vancouver Titans                 4         950000   \n",
       "6  Overwatch        Shanghai Dragons                 5         755000   \n",
       "7  Overwatch  Los Angeles Gladiators                13         709605   \n",
       "8  Overwatch           Atlanta Reign                 9         596098   \n",
       "9  Overwatch     Los Angeles Valiant                 6         535000   \n",
       "\n",
       "   Prize_per_tourney  \n",
       "0      443571.428571  \n",
       "1      122395.076923  \n",
       "2       87367.666667  \n",
       "3       79085.200000  \n",
       "4      188333.333333  \n",
       "5      237500.000000  \n",
       "6      151000.000000  \n",
       "7       54585.000000  \n",
       "8       66233.111111  \n",
       "9       89166.666667  "
      ]
     },
     "execution_count": 29,
     "metadata": {},
     "output_type": "execute_result"
    }
   ],
   "source": [
    "OWW = OWL.groupby('Game')\n",
    "Pogg = OWW.get_group('Overwatch').sort_values(by='TotalUSDPrize', ascending=False)[:10]\n",
    "Pogg"
   ]
  },
  {
   "cell_type": "code",
   "execution_count": 30,
   "id": "12133da0",
   "metadata": {
    "execution": {
     "iopub.execute_input": "2022-07-17T22:40:59.621520Z",
     "iopub.status.busy": "2022-07-17T22:40:59.620736Z",
     "iopub.status.idle": "2022-07-17T22:40:59.634593Z",
     "shell.execute_reply": "2022-07-17T22:40:59.633569Z"
    },
    "papermill": {
     "duration": 0.044849,
     "end_time": "2022-07-17T22:40:59.636851",
     "exception": false,
     "start_time": "2022-07-17T22:40:59.592002",
     "status": "completed"
    },
    "tags": []
   },
   "outputs": [
    {
     "data": {
      "text/html": [
       "<div>\n",
       "<style scoped>\n",
       "    .dataframe tbody tr th:only-of-type {\n",
       "        vertical-align: middle;\n",
       "    }\n",
       "\n",
       "    .dataframe tbody tr th {\n",
       "        vertical-align: top;\n",
       "    }\n",
       "\n",
       "    .dataframe thead th {\n",
       "        text-align: right;\n",
       "    }\n",
       "</style>\n",
       "<table border=\"1\" class=\"dataframe\">\n",
       "  <thead>\n",
       "    <tr style=\"text-align: right;\">\n",
       "      <th></th>\n",
       "      <th>TeamName</th>\n",
       "      <th>Prize_per_tourney</th>\n",
       "    </tr>\n",
       "  </thead>\n",
       "  <tbody>\n",
       "    <tr>\n",
       "      <th>0</th>\n",
       "      <td>San Francisco Shock</td>\n",
       "      <td>443571.428571</td>\n",
       "    </tr>\n",
       "    <tr>\n",
       "      <th>1</th>\n",
       "      <td>Vancouver Titans</td>\n",
       "      <td>237500.000000</td>\n",
       "    </tr>\n",
       "    <tr>\n",
       "      <th>2</th>\n",
       "      <td>Seoul Dynasty</td>\n",
       "      <td>188333.333333</td>\n",
       "    </tr>\n",
       "    <tr>\n",
       "      <th>3</th>\n",
       "      <td>Shanghai Dragons</td>\n",
       "      <td>151000.000000</td>\n",
       "    </tr>\n",
       "    <tr>\n",
       "      <th>4</th>\n",
       "      <td>London Spitfire</td>\n",
       "      <td>122395.076923</td>\n",
       "    </tr>\n",
       "    <tr>\n",
       "      <th>5</th>\n",
       "      <td>Los Angeles Valiant</td>\n",
       "      <td>89166.666667</td>\n",
       "    </tr>\n",
       "    <tr>\n",
       "      <th>6</th>\n",
       "      <td>New York Excelsior</td>\n",
       "      <td>87367.666667</td>\n",
       "    </tr>\n",
       "    <tr>\n",
       "      <th>7</th>\n",
       "      <td>Philadelphia Fusion</td>\n",
       "      <td>79085.200000</td>\n",
       "    </tr>\n",
       "    <tr>\n",
       "      <th>8</th>\n",
       "      <td>Atlanta Reign</td>\n",
       "      <td>66233.111111</td>\n",
       "    </tr>\n",
       "    <tr>\n",
       "      <th>9</th>\n",
       "      <td>Los Angeles Gladiators</td>\n",
       "      <td>54585.000000</td>\n",
       "    </tr>\n",
       "  </tbody>\n",
       "</table>\n",
       "</div>"
      ],
      "text/plain": [
       "                 TeamName  Prize_per_tourney\n",
       "0     San Francisco Shock      443571.428571\n",
       "1        Vancouver Titans      237500.000000\n",
       "2           Seoul Dynasty      188333.333333\n",
       "3        Shanghai Dragons      151000.000000\n",
       "4         London Spitfire      122395.076923\n",
       "5     Los Angeles Valiant       89166.666667\n",
       "6      New York Excelsior       87367.666667\n",
       "7     Philadelphia Fusion       79085.200000\n",
       "8           Atlanta Reign       66233.111111\n",
       "9  Los Angeles Gladiators       54585.000000"
      ]
     },
     "execution_count": 30,
     "metadata": {},
     "output_type": "execute_result"
    }
   ],
   "source": [
    "OWTProp_prize = Pogg.groupby(['TeamName'])['Prize_per_tourney'].mean().sort_values(ascending=False)[:20].reset_index()\n",
    "OWTProp_prize"
   ]
  },
  {
   "cell_type": "code",
   "execution_count": 31,
   "id": "1ac09a95",
   "metadata": {
    "execution": {
     "iopub.execute_input": "2022-07-17T22:40:59.693889Z",
     "iopub.status.busy": "2022-07-17T22:40:59.693466Z",
     "iopub.status.idle": "2022-07-17T22:41:00.005404Z",
     "shell.execute_reply": "2022-07-17T22:41:00.004329Z"
    },
    "papermill": {
     "duration": 0.343726,
     "end_time": "2022-07-17T22:41:00.008100",
     "exception": false,
     "start_time": "2022-07-17T22:40:59.664374",
     "status": "completed"
    },
    "tags": []
   },
   "outputs": [
    {
     "data": {
      "text/plain": [
       "Text(0.5, 0, 'Team Name')"
      ]
     },
     "execution_count": 31,
     "metadata": {},
     "output_type": "execute_result"
    },
    {
     "data": {
      "image/png": "[encoded data removed]",
      "text/plain": [
       "<Figure size 1440x720 with 1 Axes>"
      ]
     },
     "metadata": {},
     "output_type": "display_data"
    }
   ],
   "source": [
    "plt.figure(figsize=(20,10))\n",
    "sns.set_theme(style=\"whitegrid\")\n",
    "sns.barplot(x=OWTProp_prize['TeamName'], y=OWTProp_prize['Prize_per_tourney'], saturation=1)\n",
    "plt.title('Top 10 Overwatch Team Prize $ per Tourney', size=25)\n",
    "plt.ylabel('Prize Money (USD)', size = 17)\n",
    "plt.xticks(rotation=25)\n",
    "plt.xlabel('Team Name', size=17)"
   ]
  },
  {
   "cell_type": "markdown",
   "id": "2076150d",
   "metadata": {
    "papermill": {
     "duration": 0.030071,
     "end_time": "2022-07-17T22:41:00.067501",
     "exception": false,
     "start_time": "2022-07-17T22:41:00.037430",
     "status": "completed"
    },
    "tags": []
   },
   "source": [
    "We see San Francisco Shock had nearly double the earnings of the second highest earning team (Vancouver Titans) followed bu Seoul Dynasty in a close third."
   ]
  },
  {
   "cell_type": "markdown",
   "id": "cd56961d",
   "metadata": {
    "papermill": {
     "duration": 0.028985,
     "end_time": "2022-07-17T22:41:00.126749",
     "exception": false,
     "start_time": "2022-07-17T22:41:00.097764",
     "status": "completed"
    },
    "tags": []
   },
   "source": [
    "Now to look at earnings by the genre"
   ]
  },
  {
   "cell_type": "code",
   "execution_count": 32,
   "id": "22111e91",
   "metadata": {
    "execution": {
     "iopub.execute_input": "2022-07-17T22:41:00.186854Z",
     "iopub.status.busy": "2022-07-17T22:41:00.186094Z",
     "iopub.status.idle": "2022-07-17T22:41:00.199543Z",
     "shell.execute_reply": "2022-07-17T22:41:00.198506Z"
    },
    "papermill": {
     "duration": 0.046216,
     "end_time": "2022-07-17T22:41:00.201894",
     "exception": false,
     "start_time": "2022-07-17T22:41:00.155678",
     "status": "completed"
    },
    "tags": []
   },
   "outputs": [
    {
     "data": {
      "text/html": [
       "<div>\n",
       "<style scoped>\n",
       "    .dataframe tbody tr th:only-of-type {\n",
       "        vertical-align: middle;\n",
       "    }\n",
       "\n",
       "    .dataframe tbody tr th {\n",
       "        vertical-align: top;\n",
       "    }\n",
       "\n",
       "    .dataframe thead th {\n",
       "        text-align: right;\n",
       "    }\n",
       "</style>\n",
       "<table border=\"1\" class=\"dataframe\">\n",
       "  <thead>\n",
       "    <tr style=\"text-align: right;\">\n",
       "      <th></th>\n",
       "      <th>Genre</th>\n",
       "      <th>TotalUSDPrize</th>\n",
       "    </tr>\n",
       "  </thead>\n",
       "  <tbody>\n",
       "    <tr>\n",
       "      <th>0</th>\n",
       "      <td>Multiplayer Online Battle Arena</td>\n",
       "      <td>305627880</td>\n",
       "    </tr>\n",
       "    <tr>\n",
       "      <th>1</th>\n",
       "      <td>First-Person Shooter</td>\n",
       "      <td>105319144</td>\n",
       "    </tr>\n",
       "    <tr>\n",
       "      <th>2</th>\n",
       "      <td>Battle Royale</td>\n",
       "      <td>51376287</td>\n",
       "    </tr>\n",
       "    <tr>\n",
       "      <th>3</th>\n",
       "      <td>Strategy</td>\n",
       "      <td>27856100</td>\n",
       "    </tr>\n",
       "    <tr>\n",
       "      <th>4</th>\n",
       "      <td>Collectible Card Game</td>\n",
       "      <td>10864511</td>\n",
       "    </tr>\n",
       "  </tbody>\n",
       "</table>\n",
       "</div>"
      ],
      "text/plain": [
       "                             Genre  TotalUSDPrize\n",
       "0  Multiplayer Online Battle Arena      305627880\n",
       "1             First-Person Shooter      105319144\n",
       "2                    Battle Royale       51376287\n",
       "3                         Strategy       27856100\n",
       "4            Collectible Card Game       10864511"
      ]
     },
     "execution_count": 32,
     "metadata": {},
     "output_type": "execute_result"
    }
   ],
   "source": [
    "Genre_earnings = tdf.groupby(['Genre'])['TotalUSDPrize'].sum().sort_values(ascending=False).reset_index()\n",
    "Genre_earnings"
   ]
  },
  {
   "cell_type": "code",
   "execution_count": 33,
   "id": "8308eb7a",
   "metadata": {
    "execution": {
     "iopub.execute_input": "2022-07-17T22:41:00.262287Z",
     "iopub.status.busy": "2022-07-17T22:41:00.261904Z",
     "iopub.status.idle": "2022-07-17T22:41:00.449906Z",
     "shell.execute_reply": "2022-07-17T22:41:00.448694Z"
    },
    "papermill": {
     "duration": 0.222368,
     "end_time": "2022-07-17T22:41:00.453289",
     "exception": false,
     "start_time": "2022-07-17T22:41:00.230921",
     "status": "completed"
    },
    "tags": []
   },
   "outputs": [
    {
     "data": {
      "image/png": "[encoded data removed]",
      "text/plain": [
       "<Figure size 864x720 with 1 Axes>"
      ]
     },
     "metadata": {},
     "output_type": "display_data"
    }
   ],
   "source": [
    "plt.figure(figsize=(12,10))\n",
    "plt.pie(Genre_earnings['TotalUSDPrize'], labels=Genre_earnings['Genre'], autopct='%.2f')\n",
    "plt.title('Pie Chart: Highest Prize Earnings by Genre', size = 25)\n",
    "plt.axis('equal')\n",
    "plt.show()"
   ]
  },
  {
   "cell_type": "code",
   "execution_count": 34,
   "id": "2da998b5",
   "metadata": {
    "execution": {
     "iopub.execute_input": "2022-07-17T22:41:00.519744Z",
     "iopub.status.busy": "2022-07-17T22:41:00.518697Z",
     "iopub.status.idle": "2022-07-17T22:41:00.812934Z",
     "shell.execute_reply": "2022-07-17T22:41:00.812138Z"
    },
    "papermill": {
     "duration": 0.328119,
     "end_time": "2022-07-17T22:41:00.815050",
     "exception": false,
     "start_time": "2022-07-17T22:41:00.486931",
     "status": "completed"
    },
    "tags": []
   },
   "outputs": [
    {
     "data": {
      "text/plain": [
       "[Text(0.5, 1.0, 'Earnings by Genre'),\n",
       " Text(0.5, 0, 'Genre'),\n",
       " Text(0, 0.5, 'TotalUSDPrize$')]"
      ]
     },
     "execution_count": 34,
     "metadata": {},
     "output_type": "execute_result"
    },
    {
     "data": {
      "image/png": "[encoded data removed]",
      "text/plain": [
       "<Figure size 720x1440 with 1 Axes>"
      ]
     },
     "metadata": {},
     "output_type": "display_data"
    }
   ],
   "source": [
    "#lets look at this with boxplots\n",
    "fig = plt.figure(figsize=(10,20))\n",
    "box_plot = sns.boxplot(x='Genre', y=\"TotalUSDPrize\", data=tdf)\n",
    "box_plot.set(title='Earnings by Genre', xlabel='Genre', ylabel='TotalUSDPrize$')"
   ]
  },
  {
   "cell_type": "code",
   "execution_count": 35,
   "id": "3477d120",
   "metadata": {
    "execution": {
     "iopub.execute_input": "2022-07-17T22:41:00.879720Z",
     "iopub.status.busy": "2022-07-17T22:41:00.878663Z",
     "iopub.status.idle": "2022-07-17T22:41:00.884847Z",
     "shell.execute_reply": "2022-07-17T22:41:00.883920Z"
    },
    "papermill": {
     "duration": 0.041329,
     "end_time": "2022-07-17T22:41:00.887405",
     "exception": false,
     "start_time": "2022-07-17T22:41:00.846076",
     "status": "completed"
    },
    "tags": []
   },
   "outputs": [],
   "source": [
    "# creat boxplot without outliers\n",
    "tdf['Genrex'] = tdf.Genre.where(tdf.TotalUSDPrize < 10000000)\n"
   ]
  },
  {
   "cell_type": "code",
   "execution_count": 36,
   "id": "109bd835",
   "metadata": {
    "execution": {
     "iopub.execute_input": "2022-07-17T22:41:00.952720Z",
     "iopub.status.busy": "2022-07-17T22:41:00.951477Z",
     "iopub.status.idle": "2022-07-17T22:41:01.232647Z",
     "shell.execute_reply": "2022-07-17T22:41:01.231535Z"
    },
    "papermill": {
     "duration": 0.316503,
     "end_time": "2022-07-17T22:41:01.235074",
     "exception": false,
     "start_time": "2022-07-17T22:41:00.918571",
     "status": "completed"
    },
    "tags": []
   },
   "outputs": [
    {
     "data": {
      "text/plain": [
       "[Text(0.5, 1.0, 'Earnings by Genre'),\n",
       " Text(0.5, 0, 'Genre'),\n",
       " Text(0, 0.5, 'TotalUSDPrize$')]"
      ]
     },
     "execution_count": 36,
     "metadata": {},
     "output_type": "execute_result"
    },
    {
     "data": {
      "image/png": "[encoded data removed]",
      "text/plain": [
       "<Figure size 720x1080 with 1 Axes>"
      ]
     },
     "metadata": {},
     "output_type": "display_data"
    }
   ],
   "source": [
    "fig = plt.figure(figsize=(10,15))\n",
    "box_plot = sns.boxplot(x='Genrex', y=\"TotalUSDPrize\", data=tdf)\n",
    "box_plot.set(title='Earnings by Genre', xlabel='Genre', ylabel='TotalUSDPrize$')"
   ]
  },
  {
   "cell_type": "markdown",
   "id": "9ae2f33a",
   "metadata": {
    "papermill": {
     "duration": 0.032276,
     "end_time": "2022-07-17T22:41:01.299040",
     "exception": false,
     "start_time": "2022-07-17T22:41:01.266764",
     "status": "completed"
    },
    "tags": []
   },
   "source": [
    "let us get a statistical description"
   ]
  },
  {
   "cell_type": "code",
   "execution_count": 37,
   "id": "37d73896",
   "metadata": {
    "execution": {
     "iopub.execute_input": "2022-07-17T22:41:01.368785Z",
     "iopub.status.busy": "2022-07-17T22:41:01.368015Z",
     "iopub.status.idle": "2022-07-17T22:41:01.413280Z",
     "shell.execute_reply": "2022-07-17T22:41:01.412186Z"
    },
    "papermill": {
     "duration": 0.083248,
     "end_time": "2022-07-17T22:41:01.415548",
     "exception": false,
     "start_time": "2022-07-17T22:41:01.332300",
     "status": "completed"
    },
    "tags": []
   },
   "outputs": [
    {
     "data": {
      "text/html": [
       "<div>\n",
       "<style scoped>\n",
       "    .dataframe tbody tr th:only-of-type {\n",
       "        vertical-align: middle;\n",
       "    }\n",
       "\n",
       "    .dataframe tbody tr th {\n",
       "        vertical-align: top;\n",
       "    }\n",
       "\n",
       "    .dataframe thead tr th {\n",
       "        text-align: left;\n",
       "    }\n",
       "\n",
       "    .dataframe thead tr:last-of-type th {\n",
       "        text-align: right;\n",
       "    }\n",
       "</style>\n",
       "<table border=\"1\" class=\"dataframe\">\n",
       "  <thead>\n",
       "    <tr>\n",
       "      <th></th>\n",
       "      <th colspan=\"8\" halign=\"left\">TotalUSDPrize</th>\n",
       "    </tr>\n",
       "    <tr>\n",
       "      <th></th>\n",
       "      <th>count</th>\n",
       "      <th>mean</th>\n",
       "      <th>std</th>\n",
       "      <th>min</th>\n",
       "      <th>25%</th>\n",
       "      <th>50%</th>\n",
       "      <th>75%</th>\n",
       "      <th>max</th>\n",
       "    </tr>\n",
       "    <tr>\n",
       "      <th>Genre</th>\n",
       "      <th></th>\n",
       "      <th></th>\n",
       "      <th></th>\n",
       "      <th></th>\n",
       "      <th></th>\n",
       "      <th></th>\n",
       "      <th></th>\n",
       "      <th></th>\n",
       "    </tr>\n",
       "  </thead>\n",
       "  <tbody>\n",
       "    <tr>\n",
       "      <th>Battle Royale</th>\n",
       "      <td>200.0</td>\n",
       "      <td>256881.435000</td>\n",
       "      <td>5.684190e+05</td>\n",
       "      <td>1200.0</td>\n",
       "      <td>29565.50</td>\n",
       "      <td>66771.5</td>\n",
       "      <td>177908.00</td>\n",
       "      <td>3708150.0</td>\n",
       "    </tr>\n",
       "    <tr>\n",
       "      <th>Collectible Card Game</th>\n",
       "      <td>80.0</td>\n",
       "      <td>135806.387500</td>\n",
       "      <td>2.824000e+05</td>\n",
       "      <td>175.0</td>\n",
       "      <td>1900.00</td>\n",
       "      <td>9859.5</td>\n",
       "      <td>130582.00</td>\n",
       "      <td>1656839.0</td>\n",
       "    </tr>\n",
       "    <tr>\n",
       "      <th>First-Person Shooter</th>\n",
       "      <td>200.0</td>\n",
       "      <td>526595.720000</td>\n",
       "      <td>1.004292e+06</td>\n",
       "      <td>20000.0</td>\n",
       "      <td>72708.00</td>\n",
       "      <td>143829.0</td>\n",
       "      <td>539064.00</td>\n",
       "      <td>8503918.0</td>\n",
       "    </tr>\n",
       "    <tr>\n",
       "      <th>Multiplayer Online Battle Arena</th>\n",
       "      <td>348.0</td>\n",
       "      <td>878241.034483</td>\n",
       "      <td>2.937659e+06</td>\n",
       "      <td>2500.0</td>\n",
       "      <td>47164.50</td>\n",
       "      <td>165896.0</td>\n",
       "      <td>362724.75</td>\n",
       "      <td>33810636.0</td>\n",
       "    </tr>\n",
       "    <tr>\n",
       "      <th>Strategy</th>\n",
       "      <td>100.0</td>\n",
       "      <td>278561.000000</td>\n",
       "      <td>3.661821e+05</td>\n",
       "      <td>31490.0</td>\n",
       "      <td>61592.75</td>\n",
       "      <td>131583.0</td>\n",
       "      <td>387020.75</td>\n",
       "      <td>2546572.0</td>\n",
       "    </tr>\n",
       "  </tbody>\n",
       "</table>\n",
       "</div>"
      ],
      "text/plain": [
       "                                TotalUSDPrize                               \\\n",
       "                                        count           mean           std   \n",
       "Genre                                                                        \n",
       "Battle Royale                           200.0  256881.435000  5.684190e+05   \n",
       "Collectible Card Game                    80.0  135806.387500  2.824000e+05   \n",
       "First-Person Shooter                    200.0  526595.720000  1.004292e+06   \n",
       "Multiplayer Online Battle Arena         348.0  878241.034483  2.937659e+06   \n",
       "Strategy                                100.0  278561.000000  3.661821e+05   \n",
       "\n",
       "                                                                         \\\n",
       "                                     min       25%       50%        75%   \n",
       "Genre                                                                     \n",
       "Battle Royale                     1200.0  29565.50   66771.5  177908.00   \n",
       "Collectible Card Game              175.0   1900.00    9859.5  130582.00   \n",
       "First-Person Shooter             20000.0  72708.00  143829.0  539064.00   \n",
       "Multiplayer Online Battle Arena   2500.0  47164.50  165896.0  362724.75   \n",
       "Strategy                         31490.0  61592.75  131583.0  387020.75   \n",
       "\n",
       "                                             \n",
       "                                        max  \n",
       "Genre                                        \n",
       "Battle Royale                     3708150.0  \n",
       "Collectible Card Game             1656839.0  \n",
       "First-Person Shooter              8503918.0  \n",
       "Multiplayer Online Battle Arena  33810636.0  \n",
       "Strategy                          2546572.0  "
      ]
     },
     "execution_count": 37,
     "metadata": {},
     "output_type": "execute_result"
    }
   ],
   "source": [
    "stats = tdf[['TotalUSDPrize','Genre']].groupby(['Genre'])\n",
    "stats.describe()"
   ]
  },
  {
   "cell_type": "markdown",
   "id": "5a152fc1",
   "metadata": {
    "papermill": {
     "duration": 0.032147,
     "end_time": "2022-07-17T22:41:01.480039",
     "exception": false,
     "start_time": "2022-07-17T22:41:01.447892",
     "status": "completed"
    },
    "tags": []
   },
   "source": [
    "## liner regression models for some of the features"
   ]
  },
  {
   "cell_type": "code",
   "execution_count": 38,
   "id": "5cbc2438",
   "metadata": {
    "execution": {
     "iopub.execute_input": "2022-07-17T22:41:01.548129Z",
     "iopub.status.busy": "2022-07-17T22:41:01.546459Z",
     "iopub.status.idle": "2022-07-17T22:41:01.803536Z",
     "shell.execute_reply": "2022-07-17T22:41:01.802761Z"
    },
    "papermill": {
     "duration": 0.293448,
     "end_time": "2022-07-17T22:41:01.806107",
     "exception": false,
     "start_time": "2022-07-17T22:41:01.512659",
     "status": "completed"
    },
    "tags": []
   },
   "outputs": [],
   "source": [
    "from sklearn.linear_model import LinearRegression"
   ]
  },
  {
   "cell_type": "code",
   "execution_count": 39,
   "id": "e1cf7b0a",
   "metadata": {
    "execution": {
     "iopub.execute_input": "2022-07-17T22:41:01.873099Z",
     "iopub.status.busy": "2022-07-17T22:41:01.872712Z",
     "iopub.status.idle": "2022-07-17T22:41:01.880237Z",
     "shell.execute_reply": "2022-07-17T22:41:01.879025Z"
    },
    "papermill": {
     "duration": 0.043334,
     "end_time": "2022-07-17T22:41:01.882538",
     "exception": false,
     "start_time": "2022-07-17T22:41:01.839204",
     "status": "completed"
    },
    "tags": []
   },
   "outputs": [
    {
     "data": {
      "text/plain": [
       "LinearRegression()"
      ]
     },
     "execution_count": 39,
     "metadata": {},
     "output_type": "execute_result"
    }
   ],
   "source": [
    "lm = LinearRegression()\n",
    "lm"
   ]
  },
  {
   "cell_type": "code",
   "execution_count": 40,
   "id": "86dc1db3",
   "metadata": {
    "execution": {
     "iopub.execute_input": "2022-07-17T22:41:01.950446Z",
     "iopub.status.busy": "2022-07-17T22:41:01.949527Z",
     "iopub.status.idle": "2022-07-17T22:41:01.977208Z",
     "shell.execute_reply": "2022-07-17T22:41:01.976289Z"
    },
    "papermill": {
     "duration": 0.063765,
     "end_time": "2022-07-17T22:41:01.979325",
     "exception": false,
     "start_time": "2022-07-17T22:41:01.915560",
     "status": "completed"
    },
    "tags": []
   },
   "outputs": [
    {
     "data": {
      "text/plain": [
       "LinearRegression()"
      ]
     },
     "execution_count": 40,
     "metadata": {},
     "output_type": "execute_result"
    }
   ],
   "source": [
    "# How can the Team help us predict earnings\n",
    "x = tdf[['TotalTournaments']]\n",
    "y = tdf[['TotalUSDPrize']]\n",
    "lm.fit(x,y)"
   ]
  },
  {
   "cell_type": "code",
   "execution_count": 41,
   "id": "f9410c8c",
   "metadata": {
    "execution": {
     "iopub.execute_input": "2022-07-17T22:41:02.047659Z",
     "iopub.status.busy": "2022-07-17T22:41:02.047020Z",
     "iopub.status.idle": "2022-07-17T22:41:02.054792Z",
     "shell.execute_reply": "2022-07-17T22:41:02.054053Z"
    },
    "papermill": {
     "duration": 0.044419,
     "end_time": "2022-07-17T22:41:02.056725",
     "exception": false,
     "start_time": "2022-07-17T22:41:02.012306",
     "status": "completed"
    },
    "tags": []
   },
   "outputs": [
    {
     "data": {
      "text/plain": [
       "array([[388332.63126019],\n",
       "       [425160.77687252],\n",
       "       [455850.89821612],\n",
       "       [437436.82540996],\n",
       "       [382194.60699147]])"
      ]
     },
     "execution_count": 41,
     "metadata": {},
     "output_type": "execute_result"
    }
   ],
   "source": [
    "# make a prediction\n",
    "Yhat = lm.predict(x)\n",
    "Yhat[0:5]"
   ]
  },
  {
   "cell_type": "code",
   "execution_count": 42,
   "id": "d9fbcba4",
   "metadata": {
    "execution": {
     "iopub.execute_input": "2022-07-17T22:41:02.124067Z",
     "iopub.status.busy": "2022-07-17T22:41:02.123630Z",
     "iopub.status.idle": "2022-07-17T22:41:02.130798Z",
     "shell.execute_reply": "2022-07-17T22:41:02.129768Z"
    },
    "papermill": {
     "duration": 0.043642,
     "end_time": "2022-07-17T22:41:02.133007",
     "exception": false,
     "start_time": "2022-07-17T22:41:02.089365",
     "status": "completed"
    },
    "tags": []
   },
   "outputs": [
    {
     "data": {
      "text/plain": [
       "array([345366.46137915])"
      ]
     },
     "execution_count": 42,
     "metadata": {},
     "output_type": "execute_result"
    }
   ],
   "source": [
    "# Find the value of the interrcept (a)\n",
    "lm.intercept_"
   ]
  },
  {
   "cell_type": "code",
   "execution_count": 43,
   "id": "5c0b2da8",
   "metadata": {
    "execution": {
     "iopub.execute_input": "2022-07-17T22:41:02.201915Z",
     "iopub.status.busy": "2022-07-17T22:41:02.201498Z",
     "iopub.status.idle": "2022-07-17T22:41:02.207627Z",
     "shell.execute_reply": "2022-07-17T22:41:02.206883Z"
    },
    "papermill": {
     "duration": 0.043219,
     "end_time": "2022-07-17T22:41:02.209548",
     "exception": false,
     "start_time": "2022-07-17T22:41:02.166329",
     "status": "completed"
    },
    "tags": []
   },
   "outputs": [
    {
     "data": {
      "text/plain": [
       "array([[6138.02426872]])"
      ]
     },
     "execution_count": 43,
     "metadata": {},
     "output_type": "execute_result"
    }
   ],
   "source": [
    "# value of the slope (b)\n",
    "lm.coef_"
   ]
  },
  {
   "cell_type": "markdown",
   "id": "75b5ae25",
   "metadata": {
    "papermill": {
     "duration": 0.036398,
     "end_time": "2022-07-17T22:41:02.279564",
     "exception": false,
     "start_time": "2022-07-17T22:41:02.243166",
     "status": "completed"
    },
    "tags": []
   },
   "source": [
    "Linear model: Yhat = a + bx\n",
    "\n",
    "*Earnings* = 34566.46 + 6138.02 * *number of tournaments*"
   ]
  },
  {
   "cell_type": "markdown",
   "id": "9d83bc28",
   "metadata": {
    "papermill": {
     "duration": 0.041219,
     "end_time": "2022-07-17T22:41:02.357785",
     "exception": false,
     "start_time": "2022-07-17T22:41:02.316566",
     "status": "completed"
    },
    "tags": []
   },
   "source": [
    "## Model number of tournaments regression with only the strategy genre"
   ]
  },
  {
   "cell_type": "code",
   "execution_count": 44,
   "id": "5d0f9dbd",
   "metadata": {
    "execution": {
     "iopub.execute_input": "2022-07-17T22:41:02.431584Z",
     "iopub.status.busy": "2022-07-17T22:41:02.430650Z",
     "iopub.status.idle": "2022-07-17T22:41:02.437967Z",
     "shell.execute_reply": "2022-07-17T22:41:02.436899Z"
    },
    "papermill": {
     "duration": 0.044205,
     "end_time": "2022-07-17T22:41:02.440308",
     "exception": false,
     "start_time": "2022-07-17T22:41:02.396103",
     "status": "completed"
    },
    "tags": []
   },
   "outputs": [],
   "source": [
    "# remove old condition\n",
    "tdf['Genrex'] = tdf.Genre.where(tdf.TotalUSDPrize < 100000000000)"
   ]
  },
  {
   "cell_type": "code",
   "execution_count": 45,
   "id": "4673ca76",
   "metadata": {
    "execution": {
     "iopub.execute_input": "2022-07-17T22:41:02.515555Z",
     "iopub.status.busy": "2022-07-17T22:41:02.514577Z",
     "iopub.status.idle": "2022-07-17T22:41:02.545456Z",
     "shell.execute_reply": "2022-07-17T22:41:02.544329Z"
    },
    "papermill": {
     "duration": 0.068894,
     "end_time": "2022-07-17T22:41:02.548008",
     "exception": false,
     "start_time": "2022-07-17T22:41:02.479114",
     "status": "completed"
    },
    "tags": []
   },
   "outputs": [
    {
     "data": {
      "text/html": [
       "<div>\n",
       "<style scoped>\n",
       "    .dataframe tbody tr th:only-of-type {\n",
       "        vertical-align: middle;\n",
       "    }\n",
       "\n",
       "    .dataframe tbody tr th {\n",
       "        vertical-align: top;\n",
       "    }\n",
       "\n",
       "    .dataframe thead th {\n",
       "        text-align: right;\n",
       "    }\n",
       "</style>\n",
       "<table border=\"1\" class=\"dataframe\">\n",
       "  <thead>\n",
       "    <tr style=\"text-align: right;\">\n",
       "      <th></th>\n",
       "      <th>TeamId</th>\n",
       "      <th>TeamName</th>\n",
       "      <th>TotalUSDPrize</th>\n",
       "      <th>TotalTournaments</th>\n",
       "      <th>Game</th>\n",
       "      <th>Genre</th>\n",
       "      <th>Genrex</th>\n",
       "      <th>tourneyx</th>\n",
       "    </tr>\n",
       "  </thead>\n",
       "  <tbody>\n",
       "    <tr>\n",
       "      <th>100</th>\n",
       "      <td>181</td>\n",
       "      <td>Jin Air Green Wings</td>\n",
       "      <td>2546572</td>\n",
       "      <td>379</td>\n",
       "      <td>Starcraft II</td>\n",
       "      <td>Strategy</td>\n",
       "      <td>Strategy</td>\n",
       "      <td>379.0</td>\n",
       "    </tr>\n",
       "    <tr>\n",
       "      <th>101</th>\n",
       "      <td>102</td>\n",
       "      <td>Team Liquid</td>\n",
       "      <td>1498925</td>\n",
       "      <td>808</td>\n",
       "      <td>Starcraft II</td>\n",
       "      <td>Strategy</td>\n",
       "      <td>Strategy</td>\n",
       "      <td>808.0</td>\n",
       "    </tr>\n",
       "    <tr>\n",
       "      <th>102</th>\n",
       "      <td>145</td>\n",
       "      <td>SK Telecom T1</td>\n",
       "      <td>1143991</td>\n",
       "      <td>94</td>\n",
       "      <td>Starcraft II</td>\n",
       "      <td>Strategy</td>\n",
       "      <td>Strategy</td>\n",
       "      <td>94.0</td>\n",
       "    </tr>\n",
       "    <tr>\n",
       "      <th>103</th>\n",
       "      <td>131</td>\n",
       "      <td>Incredible Miracle</td>\n",
       "      <td>1111753</td>\n",
       "      <td>138</td>\n",
       "      <td>Starcraft II</td>\n",
       "      <td>Strategy</td>\n",
       "      <td>Strategy</td>\n",
       "      <td>138.0</td>\n",
       "    </tr>\n",
       "    <tr>\n",
       "      <th>104</th>\n",
       "      <td>136</td>\n",
       "      <td>StarTale</td>\n",
       "      <td>1014565</td>\n",
       "      <td>152</td>\n",
       "      <td>Starcraft II</td>\n",
       "      <td>Strategy</td>\n",
       "      <td>Strategy</td>\n",
       "      <td>152.0</td>\n",
       "    </tr>\n",
       "    <tr>\n",
       "      <th>...</th>\n",
       "      <td>...</td>\n",
       "      <td>...</td>\n",
       "      <td>...</td>\n",
       "      <td>...</td>\n",
       "      <td>...</td>\n",
       "      <td>...</td>\n",
       "      <td>...</td>\n",
       "      <td>...</td>\n",
       "    </tr>\n",
       "    <tr>\n",
       "      <th>195</th>\n",
       "      <td>125</td>\n",
       "      <td>PanDarea</td>\n",
       "      <td>34319</td>\n",
       "      <td>7</td>\n",
       "      <td>Starcraft II</td>\n",
       "      <td>Strategy</td>\n",
       "      <td>Strategy</td>\n",
       "      <td>7.0</td>\n",
       "    </tr>\n",
       "    <tr>\n",
       "      <th>196</th>\n",
       "      <td>320</td>\n",
       "      <td>SBENU</td>\n",
       "      <td>34211</td>\n",
       "      <td>28</td>\n",
       "      <td>Starcraft II</td>\n",
       "      <td>Strategy</td>\n",
       "      <td>Strategy</td>\n",
       "      <td>28.0</td>\n",
       "    </tr>\n",
       "    <tr>\n",
       "      <th>197</th>\n",
       "      <td>123</td>\n",
       "      <td>World Elite</td>\n",
       "      <td>33964</td>\n",
       "      <td>20</td>\n",
       "      <td>Starcraft II</td>\n",
       "      <td>Strategy</td>\n",
       "      <td>Strategy</td>\n",
       "      <td>20.0</td>\n",
       "    </tr>\n",
       "    <tr>\n",
       "      <th>198</th>\n",
       "      <td>816</td>\n",
       "      <td>O'Gaming</td>\n",
       "      <td>31870</td>\n",
       "      <td>44</td>\n",
       "      <td>Starcraft II</td>\n",
       "      <td>Strategy</td>\n",
       "      <td>Strategy</td>\n",
       "      <td>44.0</td>\n",
       "    </tr>\n",
       "    <tr>\n",
       "      <th>199</th>\n",
       "      <td>176</td>\n",
       "      <td>Exile5</td>\n",
       "      <td>31490</td>\n",
       "      <td>58</td>\n",
       "      <td>Starcraft II</td>\n",
       "      <td>Strategy</td>\n",
       "      <td>Strategy</td>\n",
       "      <td>58.0</td>\n",
       "    </tr>\n",
       "  </tbody>\n",
       "</table>\n",
       "<p>100 rows × 8 columns</p>\n",
       "</div>"
      ],
      "text/plain": [
       "     TeamId             TeamName  TotalUSDPrize  TotalTournaments  \\\n",
       "100     181  Jin Air Green Wings        2546572               379   \n",
       "101     102          Team Liquid        1498925               808   \n",
       "102     145        SK Telecom T1        1143991                94   \n",
       "103     131   Incredible Miracle        1111753               138   \n",
       "104     136             StarTale        1014565               152   \n",
       "..      ...                  ...            ...               ...   \n",
       "195     125             PanDarea          34319                 7   \n",
       "196     320                SBENU          34211                28   \n",
       "197     123          World Elite          33964                20   \n",
       "198     816             O'Gaming          31870                44   \n",
       "199     176               Exile5          31490                58   \n",
       "\n",
       "             Game     Genre    Genrex  tourneyx  \n",
       "100  Starcraft II  Strategy  Strategy     379.0  \n",
       "101  Starcraft II  Strategy  Strategy     808.0  \n",
       "102  Starcraft II  Strategy  Strategy      94.0  \n",
       "103  Starcraft II  Strategy  Strategy     138.0  \n",
       "104  Starcraft II  Strategy  Strategy     152.0  \n",
       "..            ...       ...       ...       ...  \n",
       "195  Starcraft II  Strategy  Strategy       7.0  \n",
       "196  Starcraft II  Strategy  Strategy      28.0  \n",
       "197  Starcraft II  Strategy  Strategy      20.0  \n",
       "198  Starcraft II  Strategy  Strategy      44.0  \n",
       "199  Starcraft II  Strategy  Strategy      58.0  \n",
       "\n",
       "[100 rows x 8 columns]"
      ]
     },
     "execution_count": 45,
     "metadata": {},
     "output_type": "execute_result"
    }
   ],
   "source": [
    "tdf['tourneyx'] = tdf.TotalTournaments.where(tdf.Genre == 'Strategy') #create columnn where tournament is only measured if it is of the stategy genre\n",
    "strat_mod = tdf.dropna() # drop all rows that aren't of strategy genre\n",
    "strat_mod"
   ]
  },
  {
   "cell_type": "code",
   "execution_count": 46,
   "id": "0348e9e6",
   "metadata": {
    "execution": {
     "iopub.execute_input": "2022-07-17T22:41:02.624558Z",
     "iopub.status.busy": "2022-07-17T22:41:02.624129Z",
     "iopub.status.idle": "2022-07-17T22:41:02.638276Z",
     "shell.execute_reply": "2022-07-17T22:41:02.637151Z"
    },
    "papermill": {
     "duration": 0.058313,
     "end_time": "2022-07-17T22:41:02.640668",
     "exception": false,
     "start_time": "2022-07-17T22:41:02.582355",
     "status": "completed"
    },
    "tags": []
   },
   "outputs": [
    {
     "data": {
      "text/plain": [
       "LinearRegression()"
      ]
     },
     "execution_count": 46,
     "metadata": {},
     "output_type": "execute_result"
    }
   ],
   "source": [
    "lm1 = LinearRegression()\n",
    "lm1.fit(strat_mod[['tourneyx']], strat_mod[['TotalUSDPrize']])"
   ]
  },
  {
   "cell_type": "code",
   "execution_count": 47,
   "id": "c8f66bbb",
   "metadata": {
    "execution": {
     "iopub.execute_input": "2022-07-17T22:41:02.717093Z",
     "iopub.status.busy": "2022-07-17T22:41:02.716209Z",
     "iopub.status.idle": "2022-07-17T22:41:02.727798Z",
     "shell.execute_reply": "2022-07-17T22:41:02.726643Z"
    },
    "papermill": {
     "duration": 0.050182,
     "end_time": "2022-07-17T22:41:02.730561",
     "exception": false,
     "start_time": "2022-07-17T22:41:02.680379",
     "status": "completed"
    },
    "tags": []
   },
   "outputs": [
    {
     "data": {
      "text/plain": [
       "array([[1611.67644475]])"
      ]
     },
     "execution_count": 47,
     "metadata": {},
     "output_type": "execute_result"
    }
   ],
   "source": [
    "# find the slope (b)\n",
    "lm1.coef_"
   ]
  },
  {
   "cell_type": "code",
   "execution_count": 48,
   "id": "70f5ada4",
   "metadata": {
    "execution": {
     "iopub.execute_input": "2022-07-17T22:41:02.799552Z",
     "iopub.status.busy": "2022-07-17T22:41:02.799175Z",
     "iopub.status.idle": "2022-07-17T22:41:02.806004Z",
     "shell.execute_reply": "2022-07-17T22:41:02.804880Z"
    },
    "papermill": {
     "duration": 0.044436,
     "end_time": "2022-07-17T22:41:02.808307",
     "exception": false,
     "start_time": "2022-07-17T22:41:02.763871",
     "status": "completed"
    },
    "tags": []
   },
   "outputs": [
    {
     "data": {
      "text/plain": [
       "array([74264.89386375])"
      ]
     },
     "execution_count": 48,
     "metadata": {},
     "output_type": "execute_result"
    }
   ],
   "source": [
    "#find the intercept (a)\n",
    "lm1.intercept_"
   ]
  },
  {
   "cell_type": "markdown",
   "id": "0ebd305f",
   "metadata": {
    "papermill": {
     "duration": 0.033691,
     "end_time": "2022-07-17T22:41:02.876761",
     "exception": false,
     "start_time": "2022-07-17T22:41:02.843070",
     "status": "completed"
    },
    "tags": []
   },
   "source": [
    "equation:\n",
    "*Earnings* = 74264.89 + 1611.78 * *Strategy-Tournament-amount*"
   ]
  },
  {
   "cell_type": "markdown",
   "id": "8e5cc621",
   "metadata": {
    "papermill": {
     "duration": 0.033553,
     "end_time": "2022-07-17T22:41:02.944225",
     "exception": false,
     "start_time": "2022-07-17T22:41:02.910672",
     "status": "completed"
    },
    "tags": []
   },
   "source": [
    "We can now estimate the potential earnings based on the amount of tourneys for any given genre as well as the specific genre 'Strategy'"
   ]
  },
  {
   "cell_type": "markdown",
   "id": "0455dd64",
   "metadata": {
    "papermill": {
     "duration": 0.03341,
     "end_time": "2022-07-17T22:41:03.011577",
     "exception": false,
     "start_time": "2022-07-17T22:41:02.978167",
     "status": "completed"
    },
    "tags": []
   },
   "source": [
    "## correlation matrix\n",
    "now to turn all features into numerical values so we can see a heatmap of correlations between features"
   ]
  },
  {
   "cell_type": "code",
   "execution_count": 49,
   "id": "45cebc96",
   "metadata": {
    "execution": {
     "iopub.execute_input": "2022-07-17T22:41:03.082366Z",
     "iopub.status.busy": "2022-07-17T22:41:03.081409Z",
     "iopub.status.idle": "2022-07-17T22:41:03.225336Z",
     "shell.execute_reply": "2022-07-17T22:41:03.224418Z"
    },
    "papermill": {
     "duration": 0.182063,
     "end_time": "2022-07-17T22:41:03.227804",
     "exception": false,
     "start_time": "2022-07-17T22:41:03.045741",
     "status": "completed"
    },
    "tags": []
   },
   "outputs": [],
   "source": [
    "tdf = pd.read_csv(r'../input/esports-earnings-for-players-teams-by-game/highest_earning_teams.csv')"
   ]
  },
  {
   "cell_type": "code",
   "execution_count": 50,
   "id": "4e79d492",
   "metadata": {
    "execution": {
     "iopub.execute_input": "2022-07-17T22:41:03.297064Z",
     "iopub.status.busy": "2022-07-17T22:41:03.296177Z",
     "iopub.status.idle": "2022-07-17T22:41:03.306355Z",
     "shell.execute_reply": "2022-07-17T22:41:03.305656Z"
    },
    "papermill": {
     "duration": 0.046683,
     "end_time": "2022-07-17T22:41:03.308252",
     "exception": false,
     "start_time": "2022-07-17T22:41:03.261569",
     "status": "completed"
    },
    "tags": []
   },
   "outputs": [
    {
     "data": {
      "text/html": [
       "<div>\n",
       "<style scoped>\n",
       "    .dataframe tbody tr th:only-of-type {\n",
       "        vertical-align: middle;\n",
       "    }\n",
       "\n",
       "    .dataframe tbody tr th {\n",
       "        vertical-align: top;\n",
       "    }\n",
       "\n",
       "    .dataframe thead th {\n",
       "        text-align: right;\n",
       "    }\n",
       "</style>\n",
       "<table border=\"1\" class=\"dataframe\">\n",
       "  <thead>\n",
       "    <tr style=\"text-align: right;\">\n",
       "      <th></th>\n",
       "      <th>TeamId</th>\n",
       "      <th>TotalUSDPrize</th>\n",
       "      <th>TotalTournaments</th>\n",
       "    </tr>\n",
       "  </thead>\n",
       "  <tbody>\n",
       "    <tr>\n",
       "      <th>TeamId</th>\n",
       "      <td>1.000000</td>\n",
       "      <td>-0.076652</td>\n",
       "      <td>-0.139735</td>\n",
       "    </tr>\n",
       "    <tr>\n",
       "      <th>TotalUSDPrize</th>\n",
       "      <td>-0.076652</td>\n",
       "      <td>1.000000</td>\n",
       "      <td>0.197059</td>\n",
       "    </tr>\n",
       "    <tr>\n",
       "      <th>TotalTournaments</th>\n",
       "      <td>-0.139735</td>\n",
       "      <td>0.197059</td>\n",
       "      <td>1.000000</td>\n",
       "    </tr>\n",
       "  </tbody>\n",
       "</table>\n",
       "</div>"
      ],
      "text/plain": [
       "                    TeamId  TotalUSDPrize  TotalTournaments\n",
       "TeamId            1.000000      -0.076652         -0.139735\n",
       "TotalUSDPrize    -0.076652       1.000000          0.197059\n",
       "TotalTournaments -0.139735       0.197059          1.000000"
      ]
     },
     "execution_count": 50,
     "metadata": {},
     "output_type": "execute_result"
    }
   ],
   "source": [
    "tdf.corr()"
   ]
  },
  {
   "cell_type": "code",
   "execution_count": 51,
   "id": "fb65d7eb",
   "metadata": {
    "execution": {
     "iopub.execute_input": "2022-07-17T22:41:03.378534Z",
     "iopub.status.busy": "2022-07-17T22:41:03.378154Z",
     "iopub.status.idle": "2022-07-17T22:41:03.399692Z",
     "shell.execute_reply": "2022-07-17T22:41:03.398953Z"
    },
    "papermill": {
     "duration": 0.05836,
     "end_time": "2022-07-17T22:41:03.401636",
     "exception": false,
     "start_time": "2022-07-17T22:41:03.343276",
     "status": "completed"
    },
    "tags": []
   },
   "outputs": [
    {
     "data": {
      "text/html": [
       "<div>\n",
       "<style scoped>\n",
       "    .dataframe tbody tr th:only-of-type {\n",
       "        vertical-align: middle;\n",
       "    }\n",
       "\n",
       "    .dataframe tbody tr th {\n",
       "        vertical-align: top;\n",
       "    }\n",
       "\n",
       "    .dataframe thead th {\n",
       "        text-align: right;\n",
       "    }\n",
       "</style>\n",
       "<table border=\"1\" class=\"dataframe\">\n",
       "  <thead>\n",
       "    <tr style=\"text-align: right;\">\n",
       "      <th></th>\n",
       "      <th>TeamId</th>\n",
       "      <th>TeamName</th>\n",
       "      <th>TotalUSDPrize</th>\n",
       "      <th>TotalTournaments</th>\n",
       "      <th>Game</th>\n",
       "      <th>Genre</th>\n",
       "    </tr>\n",
       "  </thead>\n",
       "  <tbody>\n",
       "    <tr>\n",
       "      <th>0</th>\n",
       "      <td>760</td>\n",
       "      <td>334</td>\n",
       "      <td>3105000.0</td>\n",
       "      <td>7</td>\n",
       "      <td>7</td>\n",
       "      <td>2</td>\n",
       "    </tr>\n",
       "    <tr>\n",
       "      <th>1</th>\n",
       "      <td>776</td>\n",
       "      <td>208</td>\n",
       "      <td>1591136.5</td>\n",
       "      <td>13</td>\n",
       "      <td>7</td>\n",
       "      <td>2</td>\n",
       "    </tr>\n",
       "    <tr>\n",
       "      <th>2</th>\n",
       "      <td>768</td>\n",
       "      <td>247</td>\n",
       "      <td>1572618.5</td>\n",
       "      <td>18</td>\n",
       "      <td>7</td>\n",
       "      <td>2</td>\n",
       "    </tr>\n",
       "    <tr>\n",
       "      <th>3</th>\n",
       "      <td>773</td>\n",
       "      <td>286</td>\n",
       "      <td>1186278.5</td>\n",
       "      <td>15</td>\n",
       "      <td>7</td>\n",
       "      <td>2</td>\n",
       "    </tr>\n",
       "    <tr>\n",
       "      <th>4</th>\n",
       "      <td>766</td>\n",
       "      <td>339</td>\n",
       "      <td>1130000.0</td>\n",
       "      <td>6</td>\n",
       "      <td>7</td>\n",
       "      <td>2</td>\n",
       "    </tr>\n",
       "    <tr>\n",
       "      <th>...</th>\n",
       "      <td>...</td>\n",
       "      <td>...</td>\n",
       "      <td>...</td>\n",
       "      <td>...</td>\n",
       "      <td>...</td>\n",
       "      <td>...</td>\n",
       "    </tr>\n",
       "    <tr>\n",
       "      <th>923</th>\n",
       "      <td>24781</td>\n",
       "      <td>316</td>\n",
       "      <td>6286.8</td>\n",
       "      <td>2</td>\n",
       "      <td>0</td>\n",
       "      <td>3</td>\n",
       "    </tr>\n",
       "    <tr>\n",
       "      <th>924</th>\n",
       "      <td>261</td>\n",
       "      <td>18</td>\n",
       "      <td>4000.0</td>\n",
       "      <td>1</td>\n",
       "      <td>0</td>\n",
       "      <td>3</td>\n",
       "    </tr>\n",
       "    <tr>\n",
       "      <th>925</th>\n",
       "      <td>713</td>\n",
       "      <td>226</td>\n",
       "      <td>3429.6</td>\n",
       "      <td>1</td>\n",
       "      <td>0</td>\n",
       "      <td>3</td>\n",
       "    </tr>\n",
       "    <tr>\n",
       "      <th>926</th>\n",
       "      <td>608</td>\n",
       "      <td>53</td>\n",
       "      <td>2500.0</td>\n",
       "      <td>1</td>\n",
       "      <td>0</td>\n",
       "      <td>3</td>\n",
       "    </tr>\n",
       "    <tr>\n",
       "      <th>927</th>\n",
       "      <td>584</td>\n",
       "      <td>362</td>\n",
       "      <td>2500.0</td>\n",
       "      <td>1</td>\n",
       "      <td>0</td>\n",
       "      <td>3</td>\n",
       "    </tr>\n",
       "  </tbody>\n",
       "</table>\n",
       "<p>928 rows × 6 columns</p>\n",
       "</div>"
      ],
      "text/plain": [
       "     TeamId  TeamName  TotalUSDPrize  TotalTournaments  Game  Genre\n",
       "0       760       334      3105000.0                 7     7      2\n",
       "1       776       208      1591136.5                13     7      2\n",
       "2       768       247      1572618.5                18     7      2\n",
       "3       773       286      1186278.5                15     7      2\n",
       "4       766       339      1130000.0                 6     7      2\n",
       "..      ...       ...            ...               ...   ...    ...\n",
       "923   24781       316         6286.8                 2     0      3\n",
       "924     261        18         4000.0                 1     0      3\n",
       "925     713       226         3429.6                 1     0      3\n",
       "926     608        53         2500.0                 1     0      3\n",
       "927     584       362         2500.0                 1     0      3\n",
       "\n",
       "[928 rows x 6 columns]"
      ]
     },
     "execution_count": 51,
     "metadata": {},
     "output_type": "execute_result"
    }
   ],
   "source": [
    "df_numerized = tdf\n",
    "\n",
    "for col_name in df_numerized.columns:\n",
    "    if(df_numerized[col_name].dtype == 'object'):\n",
    "        df_numerized[col_name] = df_numerized[col_name].astype('category')\n",
    "        df_numerized[col_name] = df_numerized[col_name].cat.codes\n",
    "\n",
    "df_numerized"
   ]
  },
  {
   "cell_type": "code",
   "execution_count": 52,
   "id": "2d333e49",
   "metadata": {
    "execution": {
     "iopub.execute_input": "2022-07-17T22:41:03.471811Z",
     "iopub.status.busy": "2022-07-17T22:41:03.471246Z",
     "iopub.status.idle": "2022-07-17T22:41:03.484945Z",
     "shell.execute_reply": "2022-07-17T22:41:03.483910Z"
    },
    "papermill": {
     "duration": 0.051263,
     "end_time": "2022-07-17T22:41:03.487097",
     "exception": false,
     "start_time": "2022-07-17T22:41:03.435834",
     "status": "completed"
    },
    "tags": []
   },
   "outputs": [
    {
     "data": {
      "text/html": [
       "<div>\n",
       "<style scoped>\n",
       "    .dataframe tbody tr th:only-of-type {\n",
       "        vertical-align: middle;\n",
       "    }\n",
       "\n",
       "    .dataframe tbody tr th {\n",
       "        vertical-align: top;\n",
       "    }\n",
       "\n",
       "    .dataframe thead th {\n",
       "        text-align: right;\n",
       "    }\n",
       "</style>\n",
       "<table border=\"1\" class=\"dataframe\">\n",
       "  <thead>\n",
       "    <tr style=\"text-align: right;\">\n",
       "      <th></th>\n",
       "      <th>TeamId</th>\n",
       "      <th>TeamName</th>\n",
       "      <th>TotalUSDPrize</th>\n",
       "      <th>TotalTournaments</th>\n",
       "      <th>Game</th>\n",
       "      <th>Genre</th>\n",
       "    </tr>\n",
       "  </thead>\n",
       "  <tbody>\n",
       "    <tr>\n",
       "      <th>TeamId</th>\n",
       "      <td>1.000000</td>\n",
       "      <td>-0.048258</td>\n",
       "      <td>-0.076652</td>\n",
       "      <td>-0.139735</td>\n",
       "      <td>-0.050385</td>\n",
       "      <td>-0.244951</td>\n",
       "    </tr>\n",
       "    <tr>\n",
       "      <th>TeamName</th>\n",
       "      <td>-0.048258</td>\n",
       "      <td>1.000000</td>\n",
       "      <td>0.015185</td>\n",
       "      <td>0.054399</td>\n",
       "      <td>-0.036530</td>\n",
       "      <td>0.007872</td>\n",
       "    </tr>\n",
       "    <tr>\n",
       "      <th>TotalUSDPrize</th>\n",
       "      <td>-0.076652</td>\n",
       "      <td>0.015185</td>\n",
       "      <td>1.000000</td>\n",
       "      <td>0.197059</td>\n",
       "      <td>-0.152215</td>\n",
       "      <td>0.090427</td>\n",
       "    </tr>\n",
       "    <tr>\n",
       "      <th>TotalTournaments</th>\n",
       "      <td>-0.139735</td>\n",
       "      <td>0.054399</td>\n",
       "      <td>0.197059</td>\n",
       "      <td>1.000000</td>\n",
       "      <td>0.175884</td>\n",
       "      <td>0.342676</td>\n",
       "    </tr>\n",
       "    <tr>\n",
       "      <th>Game</th>\n",
       "      <td>-0.050385</td>\n",
       "      <td>-0.036530</td>\n",
       "      <td>-0.152215</td>\n",
       "      <td>0.175884</td>\n",
       "      <td>1.000000</td>\n",
       "      <td>0.075302</td>\n",
       "    </tr>\n",
       "    <tr>\n",
       "      <th>Genre</th>\n",
       "      <td>-0.244951</td>\n",
       "      <td>0.007872</td>\n",
       "      <td>0.090427</td>\n",
       "      <td>0.342676</td>\n",
       "      <td>0.075302</td>\n",
       "      <td>1.000000</td>\n",
       "    </tr>\n",
       "  </tbody>\n",
       "</table>\n",
       "</div>"
      ],
      "text/plain": [
       "                    TeamId  TeamName  TotalUSDPrize  TotalTournaments  \\\n",
       "TeamId            1.000000 -0.048258      -0.076652         -0.139735   \n",
       "TeamName         -0.048258  1.000000       0.015185          0.054399   \n",
       "TotalUSDPrize    -0.076652  0.015185       1.000000          0.197059   \n",
       "TotalTournaments -0.139735  0.054399       0.197059          1.000000   \n",
       "Game             -0.050385 -0.036530      -0.152215          0.175884   \n",
       "Genre            -0.244951  0.007872       0.090427          0.342676   \n",
       "\n",
       "                      Game     Genre  \n",
       "TeamId           -0.050385 -0.244951  \n",
       "TeamName         -0.036530  0.007872  \n",
       "TotalUSDPrize    -0.152215  0.090427  \n",
       "TotalTournaments  0.175884  0.342676  \n",
       "Game              1.000000  0.075302  \n",
       "Genre             0.075302  1.000000  "
      ]
     },
     "execution_count": 52,
     "metadata": {},
     "output_type": "execute_result"
    }
   ],
   "source": [
    "tdf.corr()"
   ]
  },
  {
   "cell_type": "code",
   "execution_count": 53,
   "id": "9225df86",
   "metadata": {
    "execution": {
     "iopub.execute_input": "2022-07-17T22:41:03.558026Z",
     "iopub.status.busy": "2022-07-17T22:41:03.557462Z",
     "iopub.status.idle": "2022-07-17T22:41:03.985869Z",
     "shell.execute_reply": "2022-07-17T22:41:03.984736Z"
    },
    "papermill": {
     "duration": 0.466775,
     "end_time": "2022-07-17T22:41:03.988154",
     "exception": false,
     "start_time": "2022-07-17T22:41:03.521379",
     "status": "completed"
    },
    "tags": []
   },
   "outputs": [
    {
     "data": {
      "text/plain": [
       "Text(30.499999999999993, 0.5, 'esport Features')"
      ]
     },
     "execution_count": 53,
     "metadata": {},
     "output_type": "execute_result"
    },
    {
     "data": {
      "image/png": "[encoded data removed]",
      "text/plain": [
       "<Figure size 432x288 with 2 Axes>"
      ]
     },
     "metadata": {},
     "output_type": "display_data"
    }
   ],
   "source": [
    "correlation_matrix = df_numerized.corr(method='pearson')\n",
    "\n",
    "sns.heatmap(correlation_matrix, annot=True)\n",
    "\n",
    "plt.title('Esport Correlation Matrix for All Features')\n",
    "plt.xlabel('esport Features')\n",
    "plt.ylabel('esport Features')"
   ]
  },
  {
   "cell_type": "markdown",
   "id": "1bd1e541",
   "metadata": {
    "papermill": {
     "duration": 0.035045,
     "end_time": "2022-07-17T22:41:04.058148",
     "exception": false,
     "start_time": "2022-07-17T22:41:04.023103",
     "status": "completed"
    },
    "tags": []
   },
   "source": [
    "nothing significant"
   ]
  }
 ],
 "metadata": {
  "kernelspec": {
   "display_name": "Python 3",
   "language": "python",
   "name": "python3"
  },
  "language_info": {
   "codemirror_mode": {
    "name": "ipython",
    "version": 3
   },
   "file_extension": ".py",
   "mimetype": "text/x-python",
   "name": "python",
   "nbconvert_exporter": "python",
   "pygments_lexer": "ipython3",
   "version": "3.7.12"
  },
  "papermill": {
   "default_parameters": {},
   "duration": 20.40008,
   "end_time": "2022-07-17T22:41:04.915285",
   "environment_variables": {},
   "exception": null,
   "input_path": "__notebook__.ipynb",
   "output_path": "__notebook__.ipynb",
   "parameters": {},
   "start_time": "2022-07-17T22:40:44.515205",
   "version": "2.3.4"
  }
 },
 "nbformat": 4,
 "nbformat_minor": 5
}
